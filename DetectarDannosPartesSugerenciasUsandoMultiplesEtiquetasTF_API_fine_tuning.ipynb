{
 "cells": [
  {
   "cell_type": "markdown",
   "metadata": {},
   "source": [
    "# Versión con Ajuste Fino (Fine-Tuning) para el modelo multi-salida\n",
    "\n",
    "Esta versión del código implementa el ajuste fino descongelando las últimas capas del modelo base EfficientNetB0 para mejorar la adaptación a tu conjunto de datos."
   ]
  },
  {
   "cell_type": "code",
   "execution_count": 2,
   "id": "12527064",
   "metadata": {},
   "outputs": [],
   "source": [
    "# Importar librerías necesarias\n",
    "import os\n",
    "import json\n",
    "import numpy as np\n",
    "import pandas as pd\n",
    "import tensorflow as tf\n",
    "from tensorflow.keras import layers, models, applications\n",
    "from tensorflow.keras.optimizers import Adam\n",
    "from tensorflow.keras.callbacks import ModelCheckpoint, EarlyStopping\n",
    "from sklearn.preprocessing import MultiLabelBinarizer\n",
    "from sklearn.metrics import classification_report\n",
    "from tensorflow.keras.preprocessing.image import ImageDataGenerator\n",
    "from sklearn.utils.class_weight import compute_class_weight\n",
    "import matplotlib.pyplot as plt"
   ]
  },
  {
   "cell_type": "code",
   "execution_count": 3,
   "id": "f1a7d948",
   "metadata": {},
   "outputs": [],
   "source": [
    "# =============================================\n",
    "# CONFIGURACIÓN\n",
    "# =============================================\n",
    "IMG_SIZE = (224, 224)\n",
    "BATCH_SIZE = 32\n",
    "EPOCHS_INITIAL = 30  # Entrenamiento inicial con base congelada\n",
    "EPOCHS_FINE_TUNE = 30  # Entrenamiento con ajuste fino\n",
    "LEARNING_RATE_INITIAL = 1e-4\n",
    "LEARNING_RATE_FINE_TUNE = 1e-5\n",
    "BASE_MODEL = 'EfficientNetB0'"
   ]
  },
  {
   "cell_type": "code",
   "execution_count": 5,
   "id": "5d75acf2",
   "metadata": {},
   "outputs": [],
   "source": [
    "# =============================================\n",
    "# DICCIONARIOS DE MAPEO\n",
    "# =============================================\n",
    "label_to_cls_piezas = {\n",
    "    1: \"Antiniebla delantero derecho\",\n",
    "    2: \"Antiniebla delantero izquierdo\",\n",
    "    3: \"Capó\",\n",
    "    4: \"Cerradura capo\",\n",
    "    5: \"Cerradura maletero\",\n",
    "    6: \"Cerradura puerta\",\n",
    "    7: \"Espejo lateral derecho\",\n",
    "    8: \"Espejo lateral izquierdo\",\n",
    "    9: \"Faros derecho\",\n",
    "    10: \"Faros izquierdo\",\n",
    "    11: \"Guardabarros delantero derecho\",\n",
    "    12: \"Guardabarros delantero izquierdo\",\n",
    "    13: \"Guardabarros trasero derecho\",\n",
    "    14: \"Guardabarros trasero izquierdo\",\n",
    "    15: \"Luz indicadora delantera derecha\",\n",
    "    16: \"Luz indicadora delantera izquierda\",\n",
    "    17: \"Luz indicadora trasera derecha\",\n",
    "    18: \"Luz indicadora trasera izquierda\",\n",
    "    19: \"Luz trasera derecho\",\n",
    "    20: \"Luz trasera izquierdo\",\n",
    "    21: \"Maletero\",\n",
    "    22: \"Manija derecha\",\n",
    "    23: \"Manija izquierda\",\n",
    "    24: \"Marco de la ventana\",\n",
    "    25: \"Marco de las puertas\",\n",
    "    26: \"Moldura capó\",\n",
    "    27: \"Moldura puerta delantera derecha\",\n",
    "    28: \"Moldura puerta delantera izquierda\",\n",
    "    29: \"Moldura puerta trasera derecha\",\n",
    "    30: \"Moldura puerta trasera izquierda\",\n",
    "    31: \"Parabrisas delantero\",\n",
    "    32: \"Parabrisas trasero\",\n",
    "    33: \"Parachoques delantero\",\n",
    "    34: \"Parachoques trasero\",\n",
    "    35: \"Puerta delantera derecha\",\n",
    "    36: \"Puerta delantera izquierda\",\n",
    "    37: \"Puerta trasera derecha\",\n",
    "    38: \"Puerta trasera izquierda\",\n",
    "    39: \"Rejilla, parrilla\",\n",
    "    40: \"Rueda\",\n",
    "    41: \"Tapa de combustible\",\n",
    "    42: \"Tapa de rueda\",\n",
    "    43: \"Techo\",\n",
    "    44: \"Techo corredizo\",\n",
    "    45: \"Ventana delantera derecha\",\n",
    "    46: \"Ventana delantera izquierda\",\n",
    "    47: \"Ventana trasera derecha\",\n",
    "    48: \"Ventana trasera izquierda\",\n",
    "    49: \"Ventanilla delantera derecha\",\n",
    "    50: \"Ventanilla delantera izquierda\",\n",
    "    51: \"Ventanilla trasera derecha\",\n",
    "    52: \"Ventanilla trasera izquierda\"\n",
    "}\n",
    "\n",
    "label_to_cls_danos = {\n",
    "    1: \"Abolladura\",\n",
    "    2: \"Deformación\",\n",
    "    3: \"Desprendimiento\",\n",
    "    4: \"Fractura\",\n",
    "    5: \"Rayón\",\n",
    "    6: \"Rotura\"\n",
    "}\n",
    "\n",
    "label_to_cls_sugerencias = {\n",
    "    1: \"Reparar\",\n",
    "    2: \"Reemplazar\"\n",
    "}"
   ]
  },
  {
   "cell_type": "code",
   "execution_count": 7,
   "id": "5d2561b9",
   "metadata": {},
   "outputs": [],
   "source": [
    "# =============================================\n",
    "# CARGA DE DATOS\n",
    "# =============================================\n",
    "def load_and_prepare_data(split_dir):\n",
    "    \"\"\"Carga imágenes y etiquetas para un conjunto (train/val/test)\"\"\"\n",
    "    df = pd.read_csv(f'{split_dir}/{split_dir.split(\"/\")[-1]}_set.csv', sep='|')\n",
    "    \n",
    "    # Convertir strings de listas a listas reales\n",
    "    for col in ['dannos', 'partes', 'sugerencias']:\n",
    "        df[col] = df[col].apply(lambda x: json.loads(x) if isinstance(x, str) else x)\n",
    "    \n",
    "    return df\n",
    "\n",
    "# Cargar todos los conjuntos\n",
    "train_df = load_and_prepare_data('data/fotos_siniestros/train')\n",
    "val_df = load_and_prepare_data('data/fotos_siniestros/val')\n",
    "test_df = load_and_prepare_data('data/fotos_siniestros/test')"
   ]
  },
  {
   "cell_type": "code",
   "execution_count": 8,
   "id": "8cc42011",
   "metadata": {},
   "outputs": [],
   "source": [
    "# =============================================\n",
    "# PREPARACIÓN DE ETIQUETAS\n",
    "# =============================================\n",
    "mlb_partes = MultiLabelBinarizer()\n",
    "mlb_dannos = MultiLabelBinarizer()\n",
    "mlb_sugerencias = MultiLabelBinarizer()\n",
    "\n",
    "y_train_partes = mlb_partes.fit_transform(train_df['partes'])\n",
    "y_train_dannos = mlb_dannos.fit_transform(train_df['dannos'])\n",
    "y_train_sugerencias = mlb_sugerencias.fit_transform(train_df['sugerencias'])\n",
    "\n",
    "y_val_partes = mlb_partes.transform(val_df['partes'])\n",
    "y_val_dannos = mlb_dannos.transform(val_df['dannos'])\n",
    "y_val_sugerencias = mlb_sugerencias.transform(val_df['sugerencias'])"
   ]
  },
  {
   "cell_type": "code",
   "execution_count": 9,
   "id": "2558815f",
   "metadata": {},
   "outputs": [],
   "source": [
    "# =============================================\n",
    "# GENERADOR DE DATOS (igual que en tu código actual)\n",
    "# =============================================\n",
    "class MultiLabelDataGenerator(tf.keras.utils.Sequence):\n",
    "    def __init__(self, df, img_dir, mlb_partes, mlb_dannos, mlb_sugerencias, \n",
    "                 batch_size=32, img_size=(224, 224), shuffle=True, augmentation=None):\n",
    "        self.df = df\n",
    "        self.img_dir = img_dir\n",
    "        self.mlb_partes = mlb_partes\n",
    "        self.mlb_dannos = mlb_dannos\n",
    "        self.mlb_sugerencias = mlb_sugerencias\n",
    "        self.batch_size = batch_size\n",
    "        self.img_size = img_size\n",
    "        self.shuffle = shuffle\n",
    "        self.augmentation = augmentation\n",
    "        self.on_epoch_end()\n",
    "        \n",
    "    def __len__(self):\n",
    "        return int(np.ceil(len(self.df) / self.batch_size))\n",
    "    \n",
    "    def __getitem__(self, index):\n",
    "        batch_indices = self.indices[index*self.batch_size:(index+1)*self.batch_size]\n",
    "        batch_df = self.df.iloc[batch_indices]\n",
    "        \n",
    "        X = np.empty((len(batch_df), *self.img_size, 3))\n",
    "        y_partes = []\n",
    "        y_dannos = []\n",
    "        y_sugerencias = []\n",
    "        \n",
    "        for i, (_, row) in enumerate(batch_df.iterrows()):\n",
    "            img_path = os.path.join(self.img_dir, row['Imagen'])\n",
    "            img = tf.keras.preprocessing.image.load_img(img_path, target_size=self.img_size)\n",
    "            img_array = tf.keras.preprocessing.image.img_to_array(img)\n",
    "            \n",
    "            if self.augmentation:\n",
    "                img_array = self.augmentation.random_transform(img_array)\n",
    "                \n",
    "            img_array = applications.efficientnet.preprocess_input(img_array)\n",
    "            X[i] = img_array\n",
    "            \n",
    "            y_partes.append(row['partes'])\n",
    "            y_dannos.append(row['dannos'])\n",
    "            y_sugerencias.append(row['sugerencias'])\n",
    "        \n",
    "        y_partes = np.array(self.mlb_partes.transform(y_partes), dtype='float32')\n",
    "        y_dannos = np.array(self.mlb_dannos.transform(y_dannos), dtype='float32')\n",
    "        y_sugerencias = np.array(self.mlb_sugerencias.transform(y_sugerencias), dtype='float32')\n",
    "        \n",
    "        return X, {'partes': y_partes, 'dannos': y_dannos, 'sugerencias': y_sugerencias}\n",
    "    \n",
    "    def on_epoch_end(self):\n",
    "        self.indices = np.arange(len(self.df))\n",
    "        if self.shuffle:\n",
    "            np.random.shuffle(self.indices)\n",
    "\n",
    "train_datagen = ImageDataGenerator(\n",
    "    rotation_range=20,\n",
    "    width_shift_range=0.2,\n",
    "    height_shift_range=0.2,\n",
    "    shear_range=0.2,\n",
    "    zoom_range=0.2,\n",
    "    horizontal_flip=True,\n",
    "    fill_mode='nearest'\n",
    ")\n",
    "\n",
    "IMG_DIR = '../data/fotos_siniestros/'\n",
    "\n",
    "train_generator = MultiLabelDataGenerator(\n",
    "    train_df, \n",
    "    IMG_DIR, \n",
    "    mlb_partes, \n",
    "    mlb_dannos, \n",
    "    mlb_sugerencias,\n",
    "    batch_size=BATCH_SIZE, \n",
    "    img_size=IMG_SIZE,\n",
    "    augmentation=train_datagen\n",
    ")\n",
    "\n",
    "val_generator = MultiLabelDataGenerator(\n",
    "    val_df, IMG_DIR, mlb_partes, mlb_dannos, mlb_sugerencias, \n",
    "    batch_size=BATCH_SIZE, img_size=IMG_SIZE, shuffle=False\n",
    ")\n",
    "\n",
    "test_generator = MultiLabelDataGenerator(\n",
    "    test_df, IMG_DIR, mlb_partes, mlb_dannos, mlb_sugerencias, \n",
    "    batch_size=BATCH_SIZE, img_size=IMG_SIZE, shuffle=False\n",
    ")"
   ]
  },
  {
   "cell_type": "code",
   "execution_count": null,
   "metadata": {},
   "outputs": [
    {
     "name": "stderr",
     "output_type": "stream",
     "text": [
      "2025-05-07 12:18:32.247504: E external/local_xla/xla/stream_executor/cuda/cuda_platform.cc:51] failed call to cuInit: INTERNAL: CUDA error: Failed call to cuInit: CUDA_ERROR_NO_DEVICE: no CUDA-capable device is detected\n",
      "/data/Python/DetectarDannosPartesSugerenciasUsandoMultiplesEtiquetasTF_APIs/.venv-3-11/lib64/python3.11/site-packages/keras/src/trainers/data_adapters/py_dataset_adapter.py:121: UserWarning: Your `PyDataset` class should call `super().__init__(**kwargs)` in its constructor. `**kwargs` can include `workers`, `use_multiprocessing`, `max_queue_size`. Do not pass these arguments to `fit()`, as they will be ignored.\n",
      "  self._warn_if_super_not_called()\n"
     ]
    },
    {
     "name": "stdout",
     "output_type": "stream",
     "text": [
      "Epoch 1/30\n",
      "\u001b[1m26/26\u001b[0m \u001b[32m━━━━━━━━━━━━━━━━━━━━\u001b[0m\u001b[37m\u001b[0m \u001b[1m0s\u001b[0m 531ms/step - dannos_accuracy: 0.1566 - dannos_loss: 0.6620 - loss: 2.0374 - partes_accuracy: 0.0590 - partes_loss: 0.6996 - sugerencias_accuracy: 0.5835 - sugerencias_loss: 0.6744\n",
      "Epoch 1: val_loss improved from inf to 1.54802, saving model to best_model_fine_tuning.h5\n"
     ]
    },
    {
     "name": "stderr",
     "output_type": "stream",
     "text": [
      "WARNING:absl:You are saving your model as an HDF5 file via `model.save()` or `keras.saving.save_model(model)`. This file format is considered legacy. We recommend using instead the native Keras format, e.g. `model.save('my_model.keras')` or `keras.saving.save_model(model, 'my_model.keras')`. \n"
     ]
    },
    {
     "name": "stdout",
     "output_type": "stream",
     "text": [
      "\u001b[1m26/26\u001b[0m \u001b[32m━━━━━━━━━━━━━━━━━━━━\u001b[0m\u001b[37m\u001b[0m \u001b[1m23s\u001b[0m 705ms/step - dannos_accuracy: 0.1582 - dannos_loss: 0.6594 - loss: 2.0311 - partes_accuracy: 0.0587 - partes_loss: 0.6975 - sugerencias_accuracy: 0.5872 - sugerencias_loss: 0.6724 - val_dannos_accuracy: 0.2632 - val_dannos_loss: 0.4966 - val_loss: 1.5480 - val_partes_accuracy: 0.0526 - val_partes_loss: 0.5299 - val_sugerencias_accuracy: 0.8304 - val_sugerencias_loss: 0.5333\n",
      "Epoch 2/30\n",
      "\u001b[1m26/26\u001b[0m \u001b[32m━━━━━━━━━━━━━━━━━━━━\u001b[0m\u001b[37m\u001b[0m \u001b[1m0s\u001b[0m 551ms/step - dannos_accuracy: 0.2880 - dannos_loss: 0.4932 - loss: 1.5189 - partes_accuracy: 0.0663 - partes_loss: 0.4814 - sugerencias_accuracy: 0.8104 - sugerencias_loss: 0.5545\n",
      "Epoch 2: val_loss improved from 1.54802 to 1.31243, saving model to best_model_fine_tuning.h5\n"
     ]
    },
    {
     "name": "stderr",
     "output_type": "stream",
     "text": [
      "WARNING:absl:You are saving your model as an HDF5 file via `model.save()` or `keras.saving.save_model(model)`. This file format is considered legacy. We recommend using instead the native Keras format, e.g. `model.save('my_model.keras')` or `keras.saving.save_model(model, 'my_model.keras')`. \n"
     ]
    },
    {
     "name": "stdout",
     "output_type": "stream",
     "text": [
      "\u001b[1m26/26\u001b[0m \u001b[32m━━━━━━━━━━━━━━━━━━━━\u001b[0m\u001b[37m\u001b[0m \u001b[1m17s\u001b[0m 665ms/step - dannos_accuracy: 0.2891 - dannos_loss: 0.4926 - loss: 1.5163 - partes_accuracy: 0.0669 - partes_loss: 0.4800 - sugerencias_accuracy: 0.8105 - sugerencias_loss: 0.5542 - val_dannos_accuracy: 0.3099 - val_dannos_loss: 0.4502 - val_loss: 1.3124 - val_partes_accuracy: 0.1228 - val_partes_loss: 0.3968 - val_sugerencias_accuracy: 0.8830 - val_sugerencias_loss: 0.4753\n",
      "Epoch 3/30\n",
      "\u001b[1m26/26\u001b[0m \u001b[32m━━━━━━━━━━━━━━━━━━━━\u001b[0m\u001b[37m\u001b[0m \u001b[1m0s\u001b[0m 575ms/step - dannos_accuracy: 0.3517 - dannos_loss: 0.4550 - loss: 1.3029 - partes_accuracy: 0.0827 - partes_loss: 0.3582 - sugerencias_accuracy: 0.8534 - sugerencias_loss: 0.5091\n",
      "Epoch 3: val_loss improved from 1.31243 to 1.18497, saving model to best_model_fine_tuning.h5\n"
     ]
    },
    {
     "name": "stderr",
     "output_type": "stream",
     "text": [
      "WARNING:absl:You are saving your model as an HDF5 file via `model.save()` or `keras.saving.save_model(model)`. This file format is considered legacy. We recommend using instead the native Keras format, e.g. `model.save('my_model.keras')` or `keras.saving.save_model(model, 'my_model.keras')`. \n"
     ]
    },
    {
     "name": "stdout",
     "output_type": "stream",
     "text": [
      "\u001b[1m26/26\u001b[0m \u001b[32m━━━━━━━━━━━━━━━━━━━━\u001b[0m\u001b[37m\u001b[0m \u001b[1m18s\u001b[0m 693ms/step - dannos_accuracy: 0.3521 - dannos_loss: 0.4549 - loss: 1.3019 - partes_accuracy: 0.0832 - partes_loss: 0.3575 - sugerencias_accuracy: 0.8533 - sugerencias_loss: 0.5089 - val_dannos_accuracy: 0.3743 - val_dannos_loss: 0.4316 - val_loss: 1.1850 - val_partes_accuracy: 0.1871 - val_partes_loss: 0.3277 - val_sugerencias_accuracy: 0.8772 - val_sugerencias_loss: 0.4328\n",
      "Epoch 4/30\n",
      "\u001b[1m26/26\u001b[0m \u001b[32m━━━━━━━━━━━━━━━━━━━━\u001b[0m\u001b[37m\u001b[0m \u001b[1m0s\u001b[0m 573ms/step - dannos_accuracy: 0.3819 - dannos_loss: 0.4495 - loss: 1.2002 - partes_accuracy: 0.1140 - partes_loss: 0.3029 - sugerencias_accuracy: 0.8393 - sugerencias_loss: 0.4497\n",
      "Epoch 4: val_loss improved from 1.18497 to 1.10510, saving model to best_model_fine_tuning.h5\n"
     ]
    },
    {
     "name": "stderr",
     "output_type": "stream",
     "text": [
      "WARNING:absl:You are saving your model as an HDF5 file via `model.save()` or `keras.saving.save_model(model)`. This file format is considered legacy. We recommend using instead the native Keras format, e.g. `model.save('my_model.keras')` or `keras.saving.save_model(model, 'my_model.keras')`. \n"
     ]
    },
    {
     "name": "stdout",
     "output_type": "stream",
     "text": [
      "\u001b[1m26/26\u001b[0m \u001b[32m━━━━━━━━━━━━━━━━━━━━\u001b[0m\u001b[37m\u001b[0m \u001b[1m18s\u001b[0m 690ms/step - dannos_accuracy: 0.3826 - dannos_loss: 0.4495 - loss: 1.1998 - partes_accuracy: 0.1140 - partes_loss: 0.3026 - sugerencias_accuracy: 0.8396 - sugerencias_loss: 0.4497 - val_dannos_accuracy: 0.4444 - val_dannos_loss: 0.4192 - val_loss: 1.1051 - val_partes_accuracy: 0.2398 - val_partes_loss: 0.2938 - val_sugerencias_accuracy: 0.8772 - val_sugerencias_loss: 0.4019\n",
      "Epoch 5/30\n",
      "\u001b[1m26/26\u001b[0m \u001b[32m━━━━━━━━━━━━━━━━━━━━\u001b[0m\u001b[37m\u001b[0m \u001b[1m0s\u001b[0m 634ms/step - dannos_accuracy: 0.4127 - dannos_loss: 0.4388 - loss: 1.1512 - partes_accuracy: 0.1281 - partes_loss: 0.2735 - sugerencias_accuracy: 0.8752 - sugerencias_loss: 0.4211\n",
      "Epoch 5: val_loss improved from 1.10510 to 1.06292, saving model to best_model_fine_tuning.h5\n"
     ]
    },
    {
     "name": "stderr",
     "output_type": "stream",
     "text": [
      "WARNING:absl:You are saving your model as an HDF5 file via `model.save()` or `keras.saving.save_model(model)`. This file format is considered legacy. We recommend using instead the native Keras format, e.g. `model.save('my_model.keras')` or `keras.saving.save_model(model, 'my_model.keras')`. \n"
     ]
    },
    {
     "name": "stdout",
     "output_type": "stream",
     "text": [
      "\u001b[1m26/26\u001b[0m \u001b[32m━━━━━━━━━━━━━━━━━━━━\u001b[0m\u001b[37m\u001b[0m \u001b[1m20s\u001b[0m 751ms/step - dannos_accuracy: 0.4128 - dannos_loss: 0.4385 - loss: 1.1509 - partes_accuracy: 0.1285 - partes_loss: 0.2734 - sugerencias_accuracy: 0.8750 - sugerencias_loss: 0.4209 - val_dannos_accuracy: 0.4854 - val_dannos_loss: 0.4068 - val_loss: 1.0629 - val_partes_accuracy: 0.2690 - val_partes_loss: 0.2764 - val_sugerencias_accuracy: 0.8713 - val_sugerencias_loss: 0.3852\n",
      "Epoch 6/30\n",
      "\u001b[1m26/26\u001b[0m \u001b[32m━━━━━━━━━━━━━━━━━━━━\u001b[0m\u001b[37m\u001b[0m \u001b[1m0s\u001b[0m 596ms/step - dannos_accuracy: 0.4243 - dannos_loss: 0.4482 - loss: 1.1176 - partes_accuracy: 0.1260 - partes_loss: 0.2728 - sugerencias_accuracy: 0.8668 - sugerencias_loss: 0.3964\n",
      "Epoch 6: val_loss improved from 1.06292 to 1.02185, saving model to best_model_fine_tuning.h5\n"
     ]
    },
    {
     "name": "stderr",
     "output_type": "stream",
     "text": [
      "WARNING:absl:You are saving your model as an HDF5 file via `model.save()` or `keras.saving.save_model(model)`. This file format is considered legacy. We recommend using instead the native Keras format, e.g. `model.save('my_model.keras')` or `keras.saving.save_model(model, 'my_model.keras')`. \n"
     ]
    },
    {
     "name": "stdout",
     "output_type": "stream",
     "text": [
      "\u001b[1m26/26\u001b[0m \u001b[32m━━━━━━━━━━━━━━━━━━━━\u001b[0m\u001b[37m\u001b[0m \u001b[1m18s\u001b[0m 701ms/step - dannos_accuracy: 0.4247 - dannos_loss: 0.4474 - loss: 1.1171 - partes_accuracy: 0.1262 - partes_loss: 0.2724 - sugerencias_accuracy: 0.8670 - sugerencias_loss: 0.3969 - val_dannos_accuracy: 0.5146 - val_dannos_loss: 0.3959 - val_loss: 1.0219 - val_partes_accuracy: 0.2807 - val_partes_loss: 0.2650 - val_sugerencias_accuracy: 0.8830 - val_sugerencias_loss: 0.3681\n",
      "Epoch 7/30\n",
      "\u001b[1m26/26\u001b[0m \u001b[32m━━━━━━━━━━━━━━━━━━━━\u001b[0m\u001b[37m\u001b[0m \u001b[1m0s\u001b[0m 570ms/step - dannos_accuracy: 0.4822 - dannos_loss: 0.4004 - loss: 1.0472 - partes_accuracy: 0.1610 - partes_loss: 0.2549 - sugerencias_accuracy: 0.8504 - sugerencias_loss: 0.3792\n",
      "Epoch 7: val_loss improved from 1.02185 to 0.99650, saving model to best_model_fine_tuning.h5\n"
     ]
    },
    {
     "name": "stderr",
     "output_type": "stream",
     "text": [
      "WARNING:absl:You are saving your model as an HDF5 file via `model.save()` or `keras.saving.save_model(model)`. This file format is considered legacy. We recommend using instead the native Keras format, e.g. `model.save('my_model.keras')` or `keras.saving.save_model(model, 'my_model.keras')`. \n"
     ]
    },
    {
     "name": "stdout",
     "output_type": "stream",
     "text": [
      "\u001b[1m26/26\u001b[0m \u001b[32m━━━━━━━━━━━━━━━━━━━━\u001b[0m\u001b[37m\u001b[0m \u001b[1m18s\u001b[0m 677ms/step - dannos_accuracy: 0.4816 - dannos_loss: 0.4008 - loss: 1.0477 - partes_accuracy: 0.1612 - partes_loss: 0.2550 - sugerencias_accuracy: 0.8508 - sugerencias_loss: 0.3791 - val_dannos_accuracy: 0.5263 - val_dannos_loss: 0.3874 - val_loss: 0.9965 - val_partes_accuracy: 0.2807 - val_partes_loss: 0.2556 - val_sugerencias_accuracy: 0.8889 - val_sugerencias_loss: 0.3611\n",
      "Epoch 8/30\n",
      "\u001b[1m26/26\u001b[0m \u001b[32m━━━━━━━━━━━━━━━━━━━━\u001b[0m\u001b[37m\u001b[0m \u001b[1m0s\u001b[0m 571ms/step - dannos_accuracy: 0.4997 - dannos_loss: 0.4206 - loss: 1.0825 - partes_accuracy: 0.1718 - partes_loss: 0.2521 - sugerencias_accuracy: 0.8170 - sugerencias_loss: 0.4039\n",
      "Epoch 8: val_loss improved from 0.99650 to 0.97730, saving model to best_model_fine_tuning.h5\n"
     ]
    },
    {
     "name": "stderr",
     "output_type": "stream",
     "text": [
      "WARNING:absl:You are saving your model as an HDF5 file via `model.save()` or `keras.saving.save_model(model)`. This file format is considered legacy. We recommend using instead the native Keras format, e.g. `model.save('my_model.keras')` or `keras.saving.save_model(model, 'my_model.keras')`. \n"
     ]
    },
    {
     "name": "stdout",
     "output_type": "stream",
     "text": [
      "\u001b[1m26/26\u001b[0m \u001b[32m━━━━━━━━━━━━━━━━━━━━\u001b[0m\u001b[37m\u001b[0m \u001b[1m18s\u001b[0m 685ms/step - dannos_accuracy: 0.4995 - dannos_loss: 0.4204 - loss: 1.0815 - partes_accuracy: 0.1719 - partes_loss: 0.2521 - sugerencias_accuracy: 0.8180 - sugerencias_loss: 0.4030 - val_dannos_accuracy: 0.5614 - val_dannos_loss: 0.3799 - val_loss: 0.9773 - val_partes_accuracy: 0.2982 - val_partes_loss: 0.2499 - val_sugerencias_accuracy: 0.8889 - val_sugerencias_loss: 0.3539\n",
      "Epoch 9/30\n",
      "\u001b[1m26/26\u001b[0m \u001b[32m━━━━━━━━━━━━━━━━━━━━\u001b[0m\u001b[37m\u001b[0m \u001b[1m0s\u001b[0m 565ms/step - dannos_accuracy: 0.4669 - dannos_loss: 0.4177 - loss: 1.0473 - partes_accuracy: 0.1815 - partes_loss: 0.2664 - sugerencias_accuracy: 0.8771 - sugerencias_loss: 0.3938\n",
      "Epoch 9: val_loss improved from 0.97730 to 0.96856, saving model to best_model_fine_tuning.h5\n"
     ]
    },
    {
     "name": "stderr",
     "output_type": "stream",
     "text": [
      "WARNING:absl:You are saving your model as an HDF5 file via `model.save()` or `keras.saving.save_model(model)`. This file format is considered legacy. We recommend using instead the native Keras format, e.g. `model.save('my_model.keras')` or `keras.saving.save_model(model, 'my_model.keras')`. \n"
     ]
    },
    {
     "name": "stdout",
     "output_type": "stream",
     "text": [
      "\u001b[1m26/26\u001b[0m \u001b[32m━━━━━━━━━━━━━━━━━━━━\u001b[0m\u001b[37m\u001b[0m \u001b[1m18s\u001b[0m 680ms/step - dannos_accuracy: 0.4681 - dannos_loss: 0.4172 - loss: 1.0462 - partes_accuracy: 0.1819 - partes_loss: 0.2661 - sugerencias_accuracy: 0.8770 - sugerencias_loss: 0.3936 - val_dannos_accuracy: 0.5731 - val_dannos_loss: 0.3748 - val_loss: 0.9686 - val_partes_accuracy: 0.3158 - val_partes_loss: 0.2463 - val_sugerencias_accuracy: 0.8889 - val_sugerencias_loss: 0.3525\n",
      "Epoch 10/30\n",
      "\u001b[1m26/26\u001b[0m \u001b[32m━━━━━━━━━━━━━━━━━━━━\u001b[0m\u001b[37m\u001b[0m \u001b[1m0s\u001b[0m 559ms/step - dannos_accuracy: 0.5135 - dannos_loss: 0.3801 - loss: 0.9772 - partes_accuracy: 0.2544 - partes_loss: 0.2406 - sugerencias_accuracy: 0.8674 - sugerencias_loss: 0.3559\n",
      "Epoch 10: val_loss improved from 0.96856 to 0.95264, saving model to best_model_fine_tuning.h5\n"
     ]
    },
    {
     "name": "stderr",
     "output_type": "stream",
     "text": [
      "WARNING:absl:You are saving your model as an HDF5 file via `model.save()` or `keras.saving.save_model(model)`. This file format is considered legacy. We recommend using instead the native Keras format, e.g. `model.save('my_model.keras')` or `keras.saving.save_model(model, 'my_model.keras')`. \n"
     ]
    },
    {
     "name": "stdout",
     "output_type": "stream",
     "text": [
      "\u001b[1m26/26\u001b[0m \u001b[32m━━━━━━━━━━━━━━━━━━━━\u001b[0m\u001b[37m\u001b[0m \u001b[1m18s\u001b[0m 683ms/step - dannos_accuracy: 0.5133 - dannos_loss: 0.3804 - loss: 0.9780 - partes_accuracy: 0.2530 - partes_loss: 0.2408 - sugerencias_accuracy: 0.8673 - sugerencias_loss: 0.3561 - val_dannos_accuracy: 0.5731 - val_dannos_loss: 0.3694 - val_loss: 0.9526 - val_partes_accuracy: 0.3158 - val_partes_loss: 0.2414 - val_sugerencias_accuracy: 0.8830 - val_sugerencias_loss: 0.3470\n",
      "Epoch 11/30\n",
      "\u001b[1m26/26\u001b[0m \u001b[32m━━━━━━━━━━━━━━━━━━━━\u001b[0m\u001b[37m\u001b[0m \u001b[1m0s\u001b[0m 576ms/step - dannos_accuracy: 0.5481 - dannos_loss: 0.3772 - loss: 0.9743 - partes_accuracy: 0.2065 - partes_loss: 0.2470 - sugerencias_accuracy: 0.8946 - sugerencias_loss: 0.3439\n",
      "Epoch 11: val_loss improved from 0.95264 to 0.94010, saving model to best_model_fine_tuning.h5\n"
     ]
    },
    {
     "name": "stderr",
     "output_type": "stream",
     "text": [
      "WARNING:absl:You are saving your model as an HDF5 file via `model.save()` or `keras.saving.save_model(model)`. This file format is considered legacy. We recommend using instead the native Keras format, e.g. `model.save('my_model.keras')` or `keras.saving.save_model(model, 'my_model.keras')`. \n"
     ]
    },
    {
     "name": "stdout",
     "output_type": "stream",
     "text": [
      "\u001b[1m26/26\u001b[0m \u001b[32m━━━━━━━━━━━━━━━━━━━━\u001b[0m\u001b[37m\u001b[0m \u001b[1m18s\u001b[0m 694ms/step - dannos_accuracy: 0.5475 - dannos_loss: 0.3770 - loss: 0.9749 - partes_accuracy: 0.2065 - partes_loss: 0.2469 - sugerencias_accuracy: 0.8937 - sugerencias_loss: 0.3441 - val_dannos_accuracy: 0.5848 - val_dannos_loss: 0.3638 - val_loss: 0.9401 - val_partes_accuracy: 0.3275 - val_partes_loss: 0.2370 - val_sugerencias_accuracy: 0.8830 - val_sugerencias_loss: 0.3433\n",
      "Epoch 12/30\n",
      "\u001b[1m25/26\u001b[0m \u001b[32m━━━━━━━━━━━━━━━━━━━\u001b[0m\u001b[37m━\u001b[0m \u001b[1m0s\u001b[0m 588ms/step - dannos_accuracy: 0.4996 - dannos_loss: 0.3974 - loss: 1.0003 - partes_accuracy: 0.2058 - partes_loss: 0.2457 - sugerencias_accuracy: 0.8393 - sugerencias_loss: 0.3572\n",
      "Epoch 12: val_loss improved from 0.94010 to 0.92620, saving model to best_model_fine_tuning.h5\n"
     ]
    },
    {
     "name": "stderr",
     "output_type": "stream",
     "text": [
      "WARNING:absl:You are saving your model as an HDF5 file via `model.save()` or `keras.saving.save_model(model)`. This file format is considered legacy. We recommend using instead the native Keras format, e.g. `model.save('my_model.keras')` or `keras.saving.save_model(model, 'my_model.keras')`. \n"
     ]
    },
    {
     "name": "stdout",
     "output_type": "stream",
     "text": [
      "\u001b[1m26/26\u001b[0m \u001b[32m━━━━━━━━━━━━━━━━━━━━\u001b[0m\u001b[37m\u001b[0m \u001b[1m18s\u001b[0m 681ms/step - dannos_accuracy: 0.5012 - dannos_loss: 0.3961 - loss: 0.9976 - partes_accuracy: 0.2073 - partes_loss: 0.2455 - sugerencias_accuracy: 0.8403 - sugerencias_loss: 0.3556 - val_dannos_accuracy: 0.5965 - val_dannos_loss: 0.3592 - val_loss: 0.9262 - val_partes_accuracy: 0.3333 - val_partes_loss: 0.2331 - val_sugerencias_accuracy: 0.8947 - val_sugerencias_loss: 0.3403\n",
      "Epoch 13/30\n",
      "\u001b[1m26/26\u001b[0m \u001b[32m━━━━━━━━━━━━━━━━━━━━\u001b[0m\u001b[37m\u001b[0m \u001b[1m0s\u001b[0m 553ms/step - dannos_accuracy: 0.5582 - dannos_loss: 0.3688 - loss: 0.9861 - partes_accuracy: 0.2127 - partes_loss: 0.2439 - sugerencias_accuracy: 0.8555 - sugerencias_loss: 0.3836\n",
      "Epoch 13: val_loss improved from 0.92620 to 0.92040, saving model to best_model_fine_tuning.h5\n"
     ]
    },
    {
     "name": "stderr",
     "output_type": "stream",
     "text": [
      "WARNING:absl:You are saving your model as an HDF5 file via `model.save()` or `keras.saving.save_model(model)`. This file format is considered legacy. We recommend using instead the native Keras format, e.g. `model.save('my_model.keras')` or `keras.saving.save_model(model, 'my_model.keras')`. \n"
     ]
    },
    {
     "name": "stdout",
     "output_type": "stream",
     "text": [
      "\u001b[1m26/26\u001b[0m \u001b[32m━━━━━━━━━━━━━━━━━━━━\u001b[0m\u001b[37m\u001b[0m \u001b[1m18s\u001b[0m 670ms/step - dannos_accuracy: 0.5582 - dannos_loss: 0.3692 - loss: 0.9850 - partes_accuracy: 0.2133 - partes_loss: 0.2437 - sugerencias_accuracy: 0.8558 - sugerencias_loss: 0.3851 - val_dannos_accuracy: 0.6140 - val_dannos_loss: 0.3544 - val_loss: 0.9204 - val_partes_accuracy: 0.3333 - val_partes_loss: 0.2298 - val_sugerencias_accuracy: 0.8713 - val_sugerencias_loss: 0.3412\n",
      "Epoch 14/30\n",
      "\u001b[1m26/26\u001b[0m \u001b[32m━━━━━━━━━━━━━━━━━━━━\u001b[0m\u001b[37m\u001b[0m \u001b[1m0s\u001b[0m 528ms/step - dannos_accuracy: 0.5390 - dannos_loss: 0.3312 - loss: 0.9518 - partes_accuracy: 0.2369 - partes_loss: 0.2255 - sugerencias_accuracy: 0.8623 - sugerencias_loss: 0.3373\n",
      "Epoch 14: val_loss improved from 0.92040 to 0.91018, saving model to best_model_fine_tuning.h5\n"
     ]
    },
    {
     "name": "stderr",
     "output_type": "stream",
     "text": [
      "WARNING:absl:You are saving your model as an HDF5 file via `model.save()` or `keras.saving.save_model(model)`. This file format is considered legacy. We recommend using instead the native Keras format, e.g. `model.save('my_model.keras')` or `keras.saving.save_model(model, 'my_model.keras')`. \n"
     ]
    },
    {
     "name": "stdout",
     "output_type": "stream",
     "text": [
      "\u001b[1m26/26\u001b[0m \u001b[32m━━━━━━━━━━━━━━━━━━━━\u001b[0m\u001b[37m\u001b[0m \u001b[1m17s\u001b[0m 637ms/step - dannos_accuracy: 0.5389 - dannos_loss: 0.3319 - loss: 0.9512 - partes_accuracy: 0.2368 - partes_loss: 0.2257 - sugerencias_accuracy: 0.8624 - sugerencias_loss: 0.3370 - val_dannos_accuracy: 0.6140 - val_dannos_loss: 0.3506 - val_loss: 0.9102 - val_partes_accuracy: 0.3333 - val_partes_loss: 0.2266 - val_sugerencias_accuracy: 0.8947 - val_sugerencias_loss: 0.3389\n",
      "Epoch 15/30\n",
      "\u001b[1m26/26\u001b[0m \u001b[32m━━━━━━━━━━━━━━━━━━━━\u001b[0m\u001b[37m\u001b[0m \u001b[1m0s\u001b[0m 524ms/step - dannos_accuracy: 0.5872 - dannos_loss: 0.3855 - loss: 0.8912 - partes_accuracy: 0.2714 - partes_loss: 0.2333 - sugerencias_accuracy: 0.8818 - sugerencias_loss: 0.3063\n",
      "Epoch 15: val_loss improved from 0.91018 to 0.89891, saving model to best_model_fine_tuning.h5\n"
     ]
    },
    {
     "name": "stderr",
     "output_type": "stream",
     "text": [
      "WARNING:absl:You are saving your model as an HDF5 file via `model.save()` or `keras.saving.save_model(model)`. This file format is considered legacy. We recommend using instead the native Keras format, e.g. `model.save('my_model.keras')` or `keras.saving.save_model(model, 'my_model.keras')`. \n"
     ]
    },
    {
     "name": "stdout",
     "output_type": "stream",
     "text": [
      "\u001b[1m26/26\u001b[0m \u001b[32m━━━━━━━━━━━━━━━━━━━━\u001b[0m\u001b[37m\u001b[0m \u001b[1m16s\u001b[0m 626ms/step - dannos_accuracy: 0.5871 - dannos_loss: 0.3847 - loss: 0.8919 - partes_accuracy: 0.2709 - partes_loss: 0.2333 - sugerencias_accuracy: 0.8818 - sugerencias_loss: 0.3069 - val_dannos_accuracy: 0.5673 - val_dannos_loss: 0.3467 - val_loss: 0.8989 - val_partes_accuracy: 0.3333 - val_partes_loss: 0.2236 - val_sugerencias_accuracy: 0.8947 - val_sugerencias_loss: 0.3369\n",
      "Epoch 16/30\n",
      "\u001b[1m26/26\u001b[0m \u001b[32m━━━━━━━━━━━━━━━━━━━━\u001b[0m\u001b[37m\u001b[0m \u001b[1m0s\u001b[0m 546ms/step - dannos_accuracy: 0.6225 - dannos_loss: 0.3049 - loss: 0.8583 - partes_accuracy: 0.1991 - partes_loss: 0.2599 - sugerencias_accuracy: 0.8700 - sugerencias_loss: 0.2650\n",
      "Epoch 16: val_loss improved from 0.89891 to 0.89327, saving model to best_model_fine_tuning.h5\n"
     ]
    },
    {
     "name": "stderr",
     "output_type": "stream",
     "text": [
      "WARNING:absl:You are saving your model as an HDF5 file via `model.save()` or `keras.saving.save_model(model)`. This file format is considered legacy. We recommend using instead the native Keras format, e.g. `model.save('my_model.keras')` or `keras.saving.save_model(model, 'my_model.keras')`. \n"
     ]
    },
    {
     "name": "stdout",
     "output_type": "stream",
     "text": [
      "\u001b[1m26/26\u001b[0m \u001b[32m━━━━━━━━━━━━━━━━━━━━\u001b[0m\u001b[37m\u001b[0m \u001b[1m16s\u001b[0m 649ms/step - dannos_accuracy: 0.6213 - dannos_loss: 0.3062 - loss: 0.8597 - partes_accuracy: 0.2006 - partes_loss: 0.2591 - sugerencias_accuracy: 0.8702 - sugerencias_loss: 0.2665 - val_dannos_accuracy: 0.6082 - val_dannos_loss: 0.3436 - val_loss: 0.8933 - val_partes_accuracy: 0.3450 - val_partes_loss: 0.2217 - val_sugerencias_accuracy: 0.8947 - val_sugerencias_loss: 0.3358\n",
      "Epoch 17/30\n",
      "\u001b[1m26/26\u001b[0m \u001b[32m━━━━━━━━━━━━━━━━━━━━\u001b[0m\u001b[37m\u001b[0m \u001b[1m0s\u001b[0m 522ms/step - dannos_accuracy: 0.5604 - dannos_loss: 0.3428 - loss: 0.8990 - partes_accuracy: 0.2801 - partes_loss: 0.2283 - sugerencias_accuracy: 0.8753 - sugerencias_loss: 0.3083\n",
      "Epoch 17: val_loss improved from 0.89327 to 0.88764, saving model to best_model_fine_tuning.h5\n"
     ]
    },
    {
     "name": "stderr",
     "output_type": "stream",
     "text": [
      "WARNING:absl:You are saving your model as an HDF5 file via `model.save()` or `keras.saving.save_model(model)`. This file format is considered legacy. We recommend using instead the native Keras format, e.g. `model.save('my_model.keras')` or `keras.saving.save_model(model, 'my_model.keras')`. \n"
     ]
    },
    {
     "name": "stdout",
     "output_type": "stream",
     "text": [
      "\u001b[1m26/26\u001b[0m \u001b[32m━━━━━━━━━━━━━━━━━━━━\u001b[0m\u001b[37m\u001b[0m \u001b[1m16s\u001b[0m 624ms/step - dannos_accuracy: 0.5611 - dannos_loss: 0.3427 - loss: 0.8989 - partes_accuracy: 0.2798 - partes_loss: 0.2283 - sugerencias_accuracy: 0.8748 - sugerencias_loss: 0.3086 - val_dannos_accuracy: 0.6140 - val_dannos_loss: 0.3411 - val_loss: 0.8876 - val_partes_accuracy: 0.3626 - val_partes_loss: 0.2190 - val_sugerencias_accuracy: 0.8830 - val_sugerencias_loss: 0.3348\n",
      "Epoch 18/30\n",
      "\u001b[1m26/26\u001b[0m \u001b[32m━━━━━━━━━━━━━━━━━━━━\u001b[0m\u001b[37m\u001b[0m \u001b[1m0s\u001b[0m 525ms/step - dannos_accuracy: 0.5712 - dannos_loss: 0.3630 - loss: 0.9273 - partes_accuracy: 0.3004 - partes_loss: 0.2416 - sugerencias_accuracy: 0.8407 - sugerencias_loss: 0.3682\n",
      "Epoch 18: val_loss improved from 0.88764 to 0.87935, saving model to best_model_fine_tuning.h5\n"
     ]
    },
    {
     "name": "stderr",
     "output_type": "stream",
     "text": [
      "WARNING:absl:You are saving your model as an HDF5 file via `model.save()` or `keras.saving.save_model(model)`. This file format is considered legacy. We recommend using instead the native Keras format, e.g. `model.save('my_model.keras')` or `keras.saving.save_model(model, 'my_model.keras')`. \n"
     ]
    },
    {
     "name": "stdout",
     "output_type": "stream",
     "text": [
      "\u001b[1m26/26\u001b[0m \u001b[32m━━━━━━━━━━━━━━━━━━━━\u001b[0m\u001b[37m\u001b[0m \u001b[1m16s\u001b[0m 627ms/step - dannos_accuracy: 0.5714 - dannos_loss: 0.3625 - loss: 0.9257 - partes_accuracy: 0.2994 - partes_loss: 0.2414 - sugerencias_accuracy: 0.8416 - sugerencias_loss: 0.3666 - val_dannos_accuracy: 0.6140 - val_dannos_loss: 0.3388 - val_loss: 0.8793 - val_partes_accuracy: 0.3743 - val_partes_loss: 0.2161 - val_sugerencias_accuracy: 0.8947 - val_sugerencias_loss: 0.3331\n",
      "Epoch 19/30\n",
      "\u001b[1m26/26\u001b[0m \u001b[32m━━━━━━━━━━━━━━━━━━━━\u001b[0m\u001b[37m\u001b[0m \u001b[1m0s\u001b[0m 524ms/step - dannos_accuracy: 0.6200 - dannos_loss: 0.3265 - loss: 0.8365 - partes_accuracy: 0.2935 - partes_loss: 0.2211 - sugerencias_accuracy: 0.8835 - sugerencias_loss: 0.2888\n",
      "Epoch 19: val_loss improved from 0.87935 to 0.87536, saving model to best_model_fine_tuning.h5\n"
     ]
    },
    {
     "name": "stderr",
     "output_type": "stream",
     "text": [
      "WARNING:absl:You are saving your model as an HDF5 file via `model.save()` or `keras.saving.save_model(model)`. This file format is considered legacy. We recommend using instead the native Keras format, e.g. `model.save('my_model.keras')` or `keras.saving.save_model(model, 'my_model.keras')`. \n"
     ]
    },
    {
     "name": "stdout",
     "output_type": "stream",
     "text": [
      "\u001b[1m26/26\u001b[0m \u001b[32m━━━━━━━━━━━━━━━━━━━━\u001b[0m\u001b[37m\u001b[0m \u001b[1m16s\u001b[0m 627ms/step - dannos_accuracy: 0.6193 - dannos_loss: 0.3270 - loss: 0.8377 - partes_accuracy: 0.2931 - partes_loss: 0.2214 - sugerencias_accuracy: 0.8832 - sugerencias_loss: 0.2892 - val_dannos_accuracy: 0.5965 - val_dannos_loss: 0.3369 - val_loss: 0.8754 - val_partes_accuracy: 0.3743 - val_partes_loss: 0.2137 - val_sugerencias_accuracy: 0.8947 - val_sugerencias_loss: 0.3343\n",
      "Epoch 20/30\n",
      "\u001b[1m26/26\u001b[0m \u001b[32m━━━━━━━━━━━━━━━━━━━━\u001b[0m\u001b[37m\u001b[0m \u001b[1m0s\u001b[0m 529ms/step - dannos_accuracy: 0.5872 - dannos_loss: 0.3556 - loss: 0.9072 - partes_accuracy: 0.2600 - partes_loss: 0.2257 - sugerencias_accuracy: 0.8706 - sugerencias_loss: 0.3224\n",
      "Epoch 20: val_loss improved from 0.87536 to 0.87024, saving model to best_model_fine_tuning.h5\n"
     ]
    },
    {
     "name": "stderr",
     "output_type": "stream",
     "text": [
      "WARNING:absl:You are saving your model as an HDF5 file via `model.save()` or `keras.saving.save_model(model)`. This file format is considered legacy. We recommend using instead the native Keras format, e.g. `model.save('my_model.keras')` or `keras.saving.save_model(model, 'my_model.keras')`. \n"
     ]
    },
    {
     "name": "stdout",
     "output_type": "stream",
     "text": [
      "\u001b[1m26/26\u001b[0m \u001b[32m━━━━━━━━━━━━━━━━━━━━\u001b[0m\u001b[37m\u001b[0m \u001b[1m16s\u001b[0m 632ms/step - dannos_accuracy: 0.5876 - dannos_loss: 0.3550 - loss: 0.9057 - partes_accuracy: 0.2608 - partes_loss: 0.2253 - sugerencias_accuracy: 0.8710 - sugerencias_loss: 0.3214 - val_dannos_accuracy: 0.6082 - val_dannos_loss: 0.3350 - val_loss: 0.8702 - val_partes_accuracy: 0.3743 - val_partes_loss: 0.2116 - val_sugerencias_accuracy: 0.8947 - val_sugerencias_loss: 0.3335\n",
      "Epoch 21/30\n",
      "\u001b[1m26/26\u001b[0m \u001b[32m━━━━━━━━━━━━━━━━━━━━\u001b[0m\u001b[37m\u001b[0m \u001b[1m0s\u001b[0m 525ms/step - dannos_accuracy: 0.6351 - dannos_loss: 0.3303 - loss: 0.8316 - partes_accuracy: 0.2899 - partes_loss: 0.2273 - sugerencias_accuracy: 0.8766 - sugerencias_loss: 0.2816\n",
      "Epoch 21: val_loss improved from 0.87024 to 0.86831, saving model to best_model_fine_tuning.h5\n"
     ]
    },
    {
     "name": "stderr",
     "output_type": "stream",
     "text": [
      "WARNING:absl:You are saving your model as an HDF5 file via `model.save()` or `keras.saving.save_model(model)`. This file format is considered legacy. We recommend using instead the native Keras format, e.g. `model.save('my_model.keras')` or `keras.saving.save_model(model, 'my_model.keras')`. \n"
     ]
    },
    {
     "name": "stdout",
     "output_type": "stream",
     "text": [
      "\u001b[1m26/26\u001b[0m \u001b[32m━━━━━━━━━━━━━━━━━━━━\u001b[0m\u001b[37m\u001b[0m \u001b[1m16s\u001b[0m 628ms/step - dannos_accuracy: 0.6341 - dannos_loss: 0.3304 - loss: 0.8321 - partes_accuracy: 0.2903 - partes_loss: 0.2272 - sugerencias_accuracy: 0.8764 - sugerencias_loss: 0.2820 - val_dannos_accuracy: 0.6140 - val_dannos_loss: 0.3325 - val_loss: 0.8683 - val_partes_accuracy: 0.3626 - val_partes_loss: 0.2098 - val_sugerencias_accuracy: 0.8889 - val_sugerencias_loss: 0.3331\n",
      "Epoch 22/30\n",
      "\u001b[1m26/26\u001b[0m \u001b[32m━━━━━━━━━━━━━━━━━━━━\u001b[0m\u001b[37m\u001b[0m \u001b[1m0s\u001b[0m 521ms/step - dannos_accuracy: 0.5874 - dannos_loss: 0.3332 - loss: 0.8710 - partes_accuracy: 0.2890 - partes_loss: 0.2117 - sugerencias_accuracy: 0.8525 - sugerencias_loss: 0.3116\n",
      "Epoch 22: val_loss improved from 0.86831 to 0.86083, saving model to best_model_fine_tuning.h5\n"
     ]
    },
    {
     "name": "stderr",
     "output_type": "stream",
     "text": [
      "WARNING:absl:You are saving your model as an HDF5 file via `model.save()` or `keras.saving.save_model(model)`. This file format is considered legacy. We recommend using instead the native Keras format, e.g. `model.save('my_model.keras')` or `keras.saving.save_model(model, 'my_model.keras')`. \n"
     ]
    },
    {
     "name": "stdout",
     "output_type": "stream",
     "text": [
      "\u001b[1m26/26\u001b[0m \u001b[32m━━━━━━━━━━━━━━━━━━━━\u001b[0m\u001b[37m\u001b[0m \u001b[1m16s\u001b[0m 625ms/step - dannos_accuracy: 0.5874 - dannos_loss: 0.3331 - loss: 0.8701 - partes_accuracy: 0.2889 - partes_loss: 0.2117 - sugerencias_accuracy: 0.8531 - sugerencias_loss: 0.3110 - val_dannos_accuracy: 0.6374 - val_dannos_loss: 0.3330 - val_loss: 0.8608 - val_partes_accuracy: 0.3626 - val_partes_loss: 0.2081 - val_sugerencias_accuracy: 0.8947 - val_sugerencias_loss: 0.3310\n",
      "Epoch 23/30\n",
      "\u001b[1m26/26\u001b[0m \u001b[32m━━━━━━━━━━━━━━━━━━━━\u001b[0m\u001b[37m\u001b[0m \u001b[1m0s\u001b[0m 529ms/step - dannos_accuracy: 0.6126 - dannos_loss: 0.3229 - loss: 0.8417 - partes_accuracy: 0.3070 - partes_loss: 0.2135 - sugerencias_accuracy: 0.8952 - sugerencias_loss: 0.3017\n",
      "Epoch 23: val_loss improved from 0.86083 to 0.85699, saving model to best_model_fine_tuning.h5\n"
     ]
    },
    {
     "name": "stderr",
     "output_type": "stream",
     "text": [
      "WARNING:absl:You are saving your model as an HDF5 file via `model.save()` or `keras.saving.save_model(model)`. This file format is considered legacy. We recommend using instead the native Keras format, e.g. `model.save('my_model.keras')` or `keras.saving.save_model(model, 'my_model.keras')`. \n"
     ]
    },
    {
     "name": "stdout",
     "output_type": "stream",
     "text": [
      "\u001b[1m26/26\u001b[0m \u001b[32m━━━━━━━━━━━━━━━━━━━━\u001b[0m\u001b[37m\u001b[0m \u001b[1m16s\u001b[0m 633ms/step - dannos_accuracy: 0.6128 - dannos_loss: 0.3228 - loss: 0.8411 - partes_accuracy: 0.3075 - partes_loss: 0.2135 - sugerencias_accuracy: 0.8950 - sugerencias_loss: 0.3010 - val_dannos_accuracy: 0.6140 - val_dannos_loss: 0.3296 - val_loss: 0.8570 - val_partes_accuracy: 0.3801 - val_partes_loss: 0.2054 - val_sugerencias_accuracy: 0.8947 - val_sugerencias_loss: 0.3311\n",
      "Epoch 24/30\n",
      "\u001b[1m26/26\u001b[0m \u001b[32m━━━━━━━━━━━━━━━━━━━━\u001b[0m\u001b[37m\u001b[0m \u001b[1m0s\u001b[0m 524ms/step - dannos_accuracy: 0.6264 - dannos_loss: 0.3077 - loss: 0.8134 - partes_accuracy: 0.3211 - partes_loss: 0.2025 - sugerencias_accuracy: 0.8668 - sugerencias_loss: 0.2758\n",
      "Epoch 24: val_loss improved from 0.85699 to 0.85189, saving model to best_model_fine_tuning.h5\n"
     ]
    },
    {
     "name": "stderr",
     "output_type": "stream",
     "text": [
      "WARNING:absl:You are saving your model as an HDF5 file via `model.save()` or `keras.saving.save_model(model)`. This file format is considered legacy. We recommend using instead the native Keras format, e.g. `model.save('my_model.keras')` or `keras.saving.save_model(model, 'my_model.keras')`. \n"
     ]
    },
    {
     "name": "stdout",
     "output_type": "stream",
     "text": [
      "\u001b[1m26/26\u001b[0m \u001b[32m━━━━━━━━━━━━━━━━━━━━\u001b[0m\u001b[37m\u001b[0m \u001b[1m16s\u001b[0m 627ms/step - dannos_accuracy: 0.6260 - dannos_loss: 0.3078 - loss: 0.8135 - partes_accuracy: 0.3206 - partes_loss: 0.2025 - sugerencias_accuracy: 0.8670 - sugerencias_loss: 0.2758 - val_dannos_accuracy: 0.6316 - val_dannos_loss: 0.3289 - val_loss: 0.8519 - val_partes_accuracy: 0.3684 - val_partes_loss: 0.2032 - val_sugerencias_accuracy: 0.8889 - val_sugerencias_loss: 0.3307\n",
      "Epoch 25/30\n",
      "\u001b[1m26/26\u001b[0m \u001b[32m━━━━━━━━━━━━━━━━━━━━\u001b[0m\u001b[37m\u001b[0m \u001b[1m0s\u001b[0m 527ms/step - dannos_accuracy: 0.6174 - dannos_loss: 0.3232 - loss: 0.8182 - partes_accuracy: 0.3160 - partes_loss: 0.2157 - sugerencias_accuracy: 0.8778 - sugerencias_loss: 0.2657\n",
      "Epoch 25: val_loss improved from 0.85189 to 0.84569, saving model to best_model_fine_tuning.h5\n"
     ]
    },
    {
     "name": "stderr",
     "output_type": "stream",
     "text": [
      "WARNING:absl:You are saving your model as an HDF5 file via `model.save()` or `keras.saving.save_model(model)`. This file format is considered legacy. We recommend using instead the native Keras format, e.g. `model.save('my_model.keras')` or `keras.saving.save_model(model, 'my_model.keras')`. \n"
     ]
    },
    {
     "name": "stdout",
     "output_type": "stream",
     "text": [
      "\u001b[1m26/26\u001b[0m \u001b[32m━━━━━━━━━━━━━━━━━━━━\u001b[0m\u001b[37m\u001b[0m \u001b[1m16s\u001b[0m 631ms/step - dannos_accuracy: 0.6178 - dannos_loss: 0.3229 - loss: 0.8179 - partes_accuracy: 0.3160 - partes_loss: 0.2155 - sugerencias_accuracy: 0.8780 - sugerencias_loss: 0.2660 - val_dannos_accuracy: 0.6433 - val_dannos_loss: 0.3273 - val_loss: 0.8457 - val_partes_accuracy: 0.3860 - val_partes_loss: 0.2016 - val_sugerencias_accuracy: 0.8947 - val_sugerencias_loss: 0.3303\n",
      "Epoch 26/30\n",
      "\u001b[1m26/26\u001b[0m \u001b[32m━━━━━━━━━━━━━━━━━━━━\u001b[0m\u001b[37m\u001b[0m \u001b[1m0s\u001b[0m 525ms/step - dannos_accuracy: 0.6584 - dannos_loss: 0.3117 - loss: 0.8014 - partes_accuracy: 0.2955 - partes_loss: 0.2172 - sugerencias_accuracy: 0.8804 - sugerencias_loss: 0.2866\n",
      "Epoch 26: val_loss improved from 0.84569 to 0.84537, saving model to best_model_fine_tuning.h5\n"
     ]
    },
    {
     "name": "stderr",
     "output_type": "stream",
     "text": [
      "WARNING:absl:You are saving your model as an HDF5 file via `model.save()` or `keras.saving.save_model(model)`. This file format is considered legacy. We recommend using instead the native Keras format, e.g. `model.save('my_model.keras')` or `keras.saving.save_model(model, 'my_model.keras')`. \n"
     ]
    },
    {
     "name": "stdout",
     "output_type": "stream",
     "text": [
      "\u001b[1m26/26\u001b[0m \u001b[32m━━━━━━━━━━━━━━━━━━━━\u001b[0m\u001b[37m\u001b[0m \u001b[1m16s\u001b[0m 627ms/step - dannos_accuracy: 0.6574 - dannos_loss: 0.3120 - loss: 0.8015 - partes_accuracy: 0.2958 - partes_loss: 0.2172 - sugerencias_accuracy: 0.8803 - sugerencias_loss: 0.2866 - val_dannos_accuracy: 0.6374 - val_dannos_loss: 0.3242 - val_loss: 0.8454 - val_partes_accuracy: 0.3977 - val_partes_loss: 0.2007 - val_sugerencias_accuracy: 0.8889 - val_sugerencias_loss: 0.3307\n",
      "Epoch 27/30\n",
      "\u001b[1m26/26\u001b[0m \u001b[32m━━━━━━━━━━━━━━━━━━━━\u001b[0m\u001b[37m\u001b[0m \u001b[1m0s\u001b[0m 517ms/step - dannos_accuracy: 0.6455 - dannos_loss: 0.3125 - loss: 0.8046 - partes_accuracy: 0.3034 - partes_loss: 0.2108 - sugerencias_accuracy: 0.8743 - sugerencias_loss: 0.2736\n",
      "Epoch 27: val_loss improved from 0.84537 to 0.84284, saving model to best_model_fine_tuning.h5\n"
     ]
    },
    {
     "name": "stderr",
     "output_type": "stream",
     "text": [
      "WARNING:absl:You are saving your model as an HDF5 file via `model.save()` or `keras.saving.save_model(model)`. This file format is considered legacy. We recommend using instead the native Keras format, e.g. `model.save('my_model.keras')` or `keras.saving.save_model(model, 'my_model.keras')`. \n"
     ]
    },
    {
     "name": "stdout",
     "output_type": "stream",
     "text": [
      "\u001b[1m26/26\u001b[0m \u001b[32m━━━━━━━━━━━━━━━━━━━━\u001b[0m\u001b[37m\u001b[0m \u001b[1m16s\u001b[0m 619ms/step - dannos_accuracy: 0.6453 - dannos_loss: 0.3123 - loss: 0.8041 - partes_accuracy: 0.3039 - partes_loss: 0.2106 - sugerencias_accuracy: 0.8743 - sugerencias_loss: 0.2733 - val_dannos_accuracy: 0.6257 - val_dannos_loss: 0.3226 - val_loss: 0.8428 - val_partes_accuracy: 0.3977 - val_partes_loss: 0.1992 - val_sugerencias_accuracy: 0.8947 - val_sugerencias_loss: 0.3308\n",
      "Epoch 28/30\n",
      "\u001b[1m26/26\u001b[0m \u001b[32m━━━━━━━━━━━━━━━━━━━━\u001b[0m\u001b[37m\u001b[0m \u001b[1m0s\u001b[0m 547ms/step - dannos_accuracy: 0.6125 - dannos_loss: 0.3470 - loss: 0.8017 - partes_accuracy: 0.3080 - partes_loss: 0.2217 - sugerencias_accuracy: 0.8721 - sugerencias_loss: 0.2952\n",
      "Epoch 28: val_loss did not improve from 0.84284\n",
      "\u001b[1m26/26\u001b[0m \u001b[32m━━━━━━━━━━━━━━━━━━━━\u001b[0m\u001b[37m\u001b[0m \u001b[1m16s\u001b[0m 645ms/step - dannos_accuracy: 0.6125 - dannos_loss: 0.3460 - loss: 0.8013 - partes_accuracy: 0.3084 - partes_loss: 0.2212 - sugerencias_accuracy: 0.8721 - sugerencias_loss: 0.2948 - val_dannos_accuracy: 0.6433 - val_dannos_loss: 0.3219 - val_loss: 0.8455 - val_partes_accuracy: 0.3977 - val_partes_loss: 0.1986 - val_sugerencias_accuracy: 0.9006 - val_sugerencias_loss: 0.3358\n",
      "Epoch 29/30\n",
      "\u001b[1m26/26\u001b[0m \u001b[32m━━━━━━━━━━━━━━━━━━━━\u001b[0m\u001b[37m\u001b[0m \u001b[1m0s\u001b[0m 524ms/step - dannos_accuracy: 0.6276 - dannos_loss: 0.3232 - loss: 0.8126 - partes_accuracy: 0.3325 - partes_loss: 0.1968 - sugerencias_accuracy: 0.8765 - sugerencias_loss: 0.2896\n",
      "Epoch 29: val_loss improved from 0.84284 to 0.84118, saving model to best_model_fine_tuning.h5\n"
     ]
    },
    {
     "name": "stderr",
     "output_type": "stream",
     "text": [
      "WARNING:absl:You are saving your model as an HDF5 file via `model.save()` or `keras.saving.save_model(model)`. This file format is considered legacy. We recommend using instead the native Keras format, e.g. `model.save('my_model.keras')` or `keras.saving.save_model(model, 'my_model.keras')`. \n"
     ]
    },
    {
     "name": "stdout",
     "output_type": "stream",
     "text": [
      "\u001b[1m26/26\u001b[0m \u001b[32m━━━━━━━━━━━━━━━━━━━━\u001b[0m\u001b[37m\u001b[0m \u001b[1m16s\u001b[0m 627ms/step - dannos_accuracy: 0.6283 - dannos_loss: 0.3228 - loss: 0.8121 - partes_accuracy: 0.3320 - partes_loss: 0.1969 - sugerencias_accuracy: 0.8768 - sugerencias_loss: 0.2894 - val_dannos_accuracy: 0.6374 - val_dannos_loss: 0.3222 - val_loss: 0.8412 - val_partes_accuracy: 0.3801 - val_partes_loss: 0.1972 - val_sugerencias_accuracy: 0.8947 - val_sugerencias_loss: 0.3345\n",
      "Epoch 30/30\n",
      "\u001b[1m26/26\u001b[0m \u001b[32m━━━━━━━━━━━━━━━━━━━━\u001b[0m\u001b[37m\u001b[0m \u001b[1m0s\u001b[0m 518ms/step - dannos_accuracy: 0.6099 - dannos_loss: 0.2918 - loss: 0.7658 - partes_accuracy: 0.3351 - partes_loss: 0.1994 - sugerencias_accuracy: 0.8768 - sugerencias_loss: 0.2746\n",
      "Epoch 30: val_loss improved from 0.84118 to 0.84010, saving model to best_model_fine_tuning.h5\n"
     ]
    },
    {
     "name": "stderr",
     "output_type": "stream",
     "text": [
      "WARNING:absl:You are saving your model as an HDF5 file via `model.save()` or `keras.saving.save_model(model)`. This file format is considered legacy. We recommend using instead the native Keras format, e.g. `model.save('my_model.keras')` or `keras.saving.save_model(model, 'my_model.keras')`. \n"
     ]
    },
    {
     "name": "stdout",
     "output_type": "stream",
     "text": [
      "\u001b[1m26/26\u001b[0m \u001b[32m━━━━━━━━━━━━━━━━━━━━\u001b[0m\u001b[37m\u001b[0m \u001b[1m16s\u001b[0m 620ms/step - dannos_accuracy: 0.6112 - dannos_loss: 0.2919 - loss: 0.7656 - partes_accuracy: 0.3354 - partes_loss: 0.1995 - sugerencias_accuracy: 0.8772 - sugerencias_loss: 0.2743 - val_dannos_accuracy: 0.6433 - val_dannos_loss: 0.3209 - val_loss: 0.8401 - val_partes_accuracy: 0.4094 - val_partes_loss: 0.1958 - val_sugerencias_accuracy: 0.9006 - val_sugerencias_loss: 0.3338\n",
      "Restoring model weights from the end of the best epoch: 30.\n",
      "Epoch 1/30\n",
      "\u001b[1m26/26\u001b[0m \u001b[32m━━━━━━━━━━━━━━━━━━━━\u001b[0m\u001b[37m\u001b[0m \u001b[1m0s\u001b[0m 570ms/step - dannos_accuracy: 0.5426 - dannos_loss: 0.4408 - loss: 1.1822 - partes_accuracy: 0.3106 - partes_loss: 0.3205 - sugerencias_accuracy: 0.7414 - sugerencias_loss: 0.4352\n",
      "Epoch 1: val_loss did not improve from 0.84010\n",
      "\u001b[1m26/26\u001b[0m \u001b[32m━━━━━━━━━━━━━━━━━━━━\u001b[0m\u001b[37m\u001b[0m \u001b[1m24s\u001b[0m 717ms/step - dannos_accuracy: 0.5432 - dannos_loss: 0.4404 - loss: 1.1811 - partes_accuracy: 0.3105 - partes_loss: 0.3203 - sugerencias_accuracy: 0.7427 - sugerencias_loss: 0.4345 - val_dannos_accuracy: 0.6374 - val_dannos_loss: 0.3225 - val_loss: 0.8501 - val_partes_accuracy: 0.4152 - val_partes_loss: 0.1995 - val_sugerencias_accuracy: 0.8889 - val_sugerencias_loss: 0.3364\n",
      "Epoch 2/30\n",
      "\u001b[1m26/26\u001b[0m \u001b[32m━━━━━━━━━━━━━━━━━━━━\u001b[0m\u001b[37m\u001b[0m \u001b[1m0s\u001b[0m 573ms/step - dannos_accuracy: 0.5643 - dannos_loss: 0.4133 - loss: 1.0902 - partes_accuracy: 0.2865 - partes_loss: 0.3007 - sugerencias_accuracy: 0.8127 - sugerencias_loss: 0.3778\n",
      "Epoch 2: val_loss did not improve from 0.84010\n",
      "\u001b[1m26/26\u001b[0m \u001b[32m━━━━━━━━━━━━━━━━━━━━\u001b[0m\u001b[37m\u001b[0m \u001b[1m18s\u001b[0m 671ms/step - dannos_accuracy: 0.5637 - dannos_loss: 0.4136 - loss: 1.0908 - partes_accuracy: 0.2866 - partes_loss: 0.3007 - sugerencias_accuracy: 0.8124 - sugerencias_loss: 0.3785 - val_dannos_accuracy: 0.6316 - val_dannos_loss: 0.3255 - val_loss: 0.8606 - val_partes_accuracy: 0.4094 - val_partes_loss: 0.2041 - val_sugerencias_accuracy: 0.8830 - val_sugerencias_loss: 0.3375\n",
      "Epoch 3/30\n",
      "\u001b[1m26/26\u001b[0m \u001b[32m━━━━━━━━━━━━━━━━━━━━\u001b[0m\u001b[37m\u001b[0m \u001b[1m0s\u001b[0m 572ms/step - dannos_accuracy: 0.5700 - dannos_loss: 0.3921 - loss: 1.0470 - partes_accuracy: 0.2968 - partes_loss: 0.2964 - sugerencias_accuracy: 0.8263 - sugerencias_loss: 0.3634\n",
      "Epoch 3: val_loss did not improve from 0.84010\n",
      "\u001b[1m26/26\u001b[0m \u001b[32m━━━━━━━━━━━━━━━━━━━━\u001b[0m\u001b[37m\u001b[0m \u001b[1m18s\u001b[0m 670ms/step - dannos_accuracy: 0.5703 - dannos_loss: 0.3922 - loss: 1.0466 - partes_accuracy: 0.2975 - partes_loss: 0.2963 - sugerencias_accuracy: 0.8265 - sugerencias_loss: 0.3631 - val_dannos_accuracy: 0.6257 - val_dannos_loss: 0.3288 - val_loss: 0.8701 - val_partes_accuracy: 0.4035 - val_partes_loss: 0.2081 - val_sugerencias_accuracy: 0.8830 - val_sugerencias_loss: 0.3388\n",
      "Epoch 4/30\n",
      "\u001b[1m26/26\u001b[0m \u001b[32m━━━━━━━━━━━━━━━━━━━━\u001b[0m\u001b[37m\u001b[0m \u001b[1m0s\u001b[0m 570ms/step - dannos_accuracy: 0.6054 - dannos_loss: 0.3907 - loss: 1.0113 - partes_accuracy: 0.3081 - partes_loss: 0.2882 - sugerencias_accuracy: 0.8683 - sugerencias_loss: 0.3481\n",
      "Epoch 4: val_loss did not improve from 0.84010\n",
      "\u001b[1m26/26\u001b[0m \u001b[32m━━━━━━━━━━━━━━━━━━━━\u001b[0m\u001b[37m\u001b[0m \u001b[1m17s\u001b[0m 668ms/step - dannos_accuracy: 0.6048 - dannos_loss: 0.3906 - loss: 1.0110 - partes_accuracy: 0.3079 - partes_loss: 0.2881 - sugerencias_accuracy: 0.8680 - sugerencias_loss: 0.3482 - val_dannos_accuracy: 0.6257 - val_dannos_loss: 0.3320 - val_loss: 0.8787 - val_partes_accuracy: 0.4094 - val_partes_loss: 0.2109 - val_sugerencias_accuracy: 0.8889 - val_sugerencias_loss: 0.3407\n",
      "Epoch 5/30\n",
      "\u001b[1m26/26\u001b[0m \u001b[32m━━━━━━━━━━━━━━━━━━━━\u001b[0m\u001b[37m\u001b[0m \u001b[1m0s\u001b[0m 570ms/step - dannos_accuracy: 0.6015 - dannos_loss: 0.3858 - loss: 0.9921 - partes_accuracy: 0.2995 - partes_loss: 0.2796 - sugerencias_accuracy: 0.8542 - sugerencias_loss: 0.3480\n",
      "Epoch 5: val_loss did not improve from 0.84010\n",
      "\u001b[1m26/26\u001b[0m \u001b[32m━━━━━━━━━━━━━━━━━━━━\u001b[0m\u001b[37m\u001b[0m \u001b[1m18s\u001b[0m 669ms/step - dannos_accuracy: 0.6018 - dannos_loss: 0.3857 - loss: 0.9924 - partes_accuracy: 0.3000 - partes_loss: 0.2796 - sugerencias_accuracy: 0.8543 - sugerencias_loss: 0.3483 - val_dannos_accuracy: 0.6257 - val_dannos_loss: 0.3335 - val_loss: 0.8828 - val_partes_accuracy: 0.4094 - val_partes_loss: 0.2120 - val_sugerencias_accuracy: 0.8830 - val_sugerencias_loss: 0.3426\n",
      "Epoch 6/30\n",
      "\u001b[1m26/26\u001b[0m \u001b[32m━━━━━━━━━━━━━━━━━━━━\u001b[0m\u001b[37m\u001b[0m \u001b[1m0s\u001b[0m 580ms/step - dannos_accuracy: 0.5972 - dannos_loss: 0.3831 - loss: 0.9690 - partes_accuracy: 0.2740 - partes_loss: 0.2698 - sugerencias_accuracy: 0.8741 - sugerencias_loss: 0.3264\n",
      "Epoch 6: val_loss did not improve from 0.84010\n",
      "\u001b[1m26/26\u001b[0m \u001b[32m━━━━━━━━━━━━━━━━━━━━\u001b[0m\u001b[37m\u001b[0m \u001b[1m18s\u001b[0m 680ms/step - dannos_accuracy: 0.5978 - dannos_loss: 0.3827 - loss: 0.9686 - partes_accuracy: 0.2749 - partes_loss: 0.2697 - sugerencias_accuracy: 0.8738 - sugerencias_loss: 0.3263 - val_dannos_accuracy: 0.6199 - val_dannos_loss: 0.3347 - val_loss: 0.8863 - val_partes_accuracy: 0.4094 - val_partes_loss: 0.2123 - val_sugerencias_accuracy: 0.8830 - val_sugerencias_loss: 0.3443\n",
      "Epoch 7/30\n",
      "\u001b[1m26/26\u001b[0m \u001b[32m━━━━━━━━━━━━━━━━━━━━\u001b[0m\u001b[37m\u001b[0m \u001b[1m0s\u001b[0m 582ms/step - dannos_accuracy: 0.5332 - dannos_loss: 0.3757 - loss: 0.9545 - partes_accuracy: 0.2953 - partes_loss: 0.2623 - sugerencias_accuracy: 0.8496 - sugerencias_loss: 0.3181\n",
      "Epoch 7: val_loss did not improve from 0.84010\n",
      "\u001b[1m26/26\u001b[0m \u001b[32m━━━━━━━━━━━━━━━━━━━━\u001b[0m\u001b[37m\u001b[0m \u001b[1m18s\u001b[0m 679ms/step - dannos_accuracy: 0.5350 - dannos_loss: 0.3753 - loss: 0.9542 - partes_accuracy: 0.2954 - partes_loss: 0.2624 - sugerencias_accuracy: 0.8501 - sugerencias_loss: 0.3183 - val_dannos_accuracy: 0.6257 - val_dannos_loss: 0.3354 - val_loss: 0.8882 - val_partes_accuracy: 0.4035 - val_partes_loss: 0.2117 - val_sugerencias_accuracy: 0.8889 - val_sugerencias_loss: 0.3469\n",
      "Epoch 8/30\n",
      "\u001b[1m26/26\u001b[0m \u001b[32m━━━━━━━━━━━━━━━━━━━━\u001b[0m\u001b[37m\u001b[0m \u001b[1m0s\u001b[0m 577ms/step - dannos_accuracy: 0.5945 - dannos_loss: 0.3556 - loss: 0.9399 - partes_accuracy: 0.3067 - partes_loss: 0.2587 - sugerencias_accuracy: 0.8859 - sugerencias_loss: 0.3267\n",
      "Epoch 8: val_loss did not improve from 0.84010\n",
      "\u001b[1m26/26\u001b[0m \u001b[32m━━━━━━━━━━━━━━━━━━━━\u001b[0m\u001b[37m\u001b[0m \u001b[1m18s\u001b[0m 675ms/step - dannos_accuracy: 0.5946 - dannos_loss: 0.3560 - loss: 0.9395 - partes_accuracy: 0.3068 - partes_loss: 0.2587 - sugerencias_accuracy: 0.8857 - sugerencias_loss: 0.3261 - val_dannos_accuracy: 0.6257 - val_dannos_loss: 0.3356 - val_loss: 0.8877 - val_partes_accuracy: 0.4094 - val_partes_loss: 0.2114 - val_sugerencias_accuracy: 0.8830 - val_sugerencias_loss: 0.3454\n",
      "Epoch 9/30\n",
      "\u001b[1m26/26\u001b[0m \u001b[32m━━━━━━━━━━━━━━━━━━━━\u001b[0m\u001b[37m\u001b[0m \u001b[1m0s\u001b[0m 580ms/step - dannos_accuracy: 0.6230 - dannos_loss: 0.3696 - loss: 0.9109 - partes_accuracy: 0.2828 - partes_loss: 0.2625 - sugerencias_accuracy: 0.8565 - sugerencias_loss: 0.3131\n",
      "Epoch 9: val_loss did not improve from 0.84010\n",
      "\u001b[1m26/26\u001b[0m \u001b[32m━━━━━━━━━━━━━━━━━━━━\u001b[0m\u001b[37m\u001b[0m \u001b[1m18s\u001b[0m 677ms/step - dannos_accuracy: 0.6227 - dannos_loss: 0.3692 - loss: 0.9104 - partes_accuracy: 0.2830 - partes_loss: 0.2622 - sugerencias_accuracy: 0.8569 - sugerencias_loss: 0.3127 - val_dannos_accuracy: 0.6140 - val_dannos_loss: 0.3351 - val_loss: 0.8880 - val_partes_accuracy: 0.4152 - val_partes_loss: 0.2106 - val_sugerencias_accuracy: 0.8830 - val_sugerencias_loss: 0.3470\n",
      "Epoch 10/30\n",
      "\u001b[1m26/26\u001b[0m \u001b[32m━━━━━━━━━━━━━━━━━━━━\u001b[0m\u001b[37m\u001b[0m \u001b[1m0s\u001b[0m 577ms/step - dannos_accuracy: 0.5991 - dannos_loss: 0.3472 - loss: 0.8923 - partes_accuracy: 0.2987 - partes_loss: 0.2433 - sugerencias_accuracy: 0.8789 - sugerencias_loss: 0.3020\n",
      "Epoch 10: val_loss did not improve from 0.84010\n",
      "\u001b[1m26/26\u001b[0m \u001b[32m━━━━━━━━━━━━━━━━━━━━\u001b[0m\u001b[37m\u001b[0m \u001b[1m18s\u001b[0m 675ms/step - dannos_accuracy: 0.5996 - dannos_loss: 0.3473 - loss: 0.8920 - partes_accuracy: 0.2987 - partes_loss: 0.2433 - sugerencias_accuracy: 0.8788 - sugerencias_loss: 0.3016 - val_dannos_accuracy: 0.6140 - val_dannos_loss: 0.3350 - val_loss: 0.8882 - val_partes_accuracy: 0.4152 - val_partes_loss: 0.2099 - val_sugerencias_accuracy: 0.8830 - val_sugerencias_loss: 0.3480\n",
      "Epoch 11/30\n",
      "\u001b[1m26/26\u001b[0m \u001b[32m━━━━━━━━━━━━━━━━━━━━\u001b[0m\u001b[37m\u001b[0m \u001b[1m0s\u001b[0m 572ms/step - dannos_accuracy: 0.6154 - dannos_loss: 0.3472 - loss: 0.8924 - partes_accuracy: 0.2962 - partes_loss: 0.2437 - sugerencias_accuracy: 0.8857 - sugerencias_loss: 0.3148\n",
      "Epoch 11: val_loss did not improve from 0.84010\n",
      "\u001b[1m26/26\u001b[0m \u001b[32m━━━━━━━━━━━━━━━━━━━━\u001b[0m\u001b[37m\u001b[0m \u001b[1m18s\u001b[0m 672ms/step - dannos_accuracy: 0.6149 - dannos_loss: 0.3472 - loss: 0.8927 - partes_accuracy: 0.2967 - partes_loss: 0.2437 - sugerencias_accuracy: 0.8855 - sugerencias_loss: 0.3170 - val_dannos_accuracy: 0.6140 - val_dannos_loss: 0.3350 - val_loss: 0.8871 - val_partes_accuracy: 0.4152 - val_partes_loss: 0.2096 - val_sugerencias_accuracy: 0.8830 - val_sugerencias_loss: 0.3468\n",
      "Epoch 11: early stopping\n",
      "Restoring model weights from the end of the best epoch: 1.\n"
     ]
    }
   ],
   "source": [
    "# =============================================\n",
    "# CONSTRUCCIÓN DEL MODELO CON AJUSTE FINO\n",
    "# =============================================\n",
    "# Last Execution 12:30:31 PM\n",
    "# Execution Time 11m 58.7s\n",
    "# Overhead Time 104ms\n",
    "# Render Times\n",
    "# VS Code Builtin Notebook Output Renderer 69ms\n",
    "\n",
    "def build_multi_output_model_fine_tuning(input_shape, num_partes, num_dannos, num_sugerencias, base_model_name='EfficientNetB0'):\n",
    "    if base_model_name == 'EfficientNetB0':\n",
    "        base_model = applications.EfficientNetB0(\n",
    "            include_top=False, \n",
    "            weights='imagenet', \n",
    "            input_shape=input_shape\n",
    "        )\n",
    "    elif base_model_name == 'ResNet50':\n",
    "        base_model = applications.ResNet50(\n",
    "            include_top=False,\n",
    "            weights='imagenet',\n",
    "            input_shape=input_shape\n",
    "        )\n",
    "    else:\n",
    "        raise ValueError(f\"Modelo base no soportado: {base_model_name}\")\n",
    "\n",
    "    # Congelar todas las capas inicialmente\n",
    "    base_model.trainable = False\n",
    "\n",
    "    inputs = tf.keras.Input(shape=input_shape)\n",
    "    x = base_model(inputs, training=False)\n",
    "    x = layers.GlobalAveragePooling2D()(x)\n",
    "    x = layers.Dense(512, activation='relu')(x)\n",
    "    x = layers.Dropout(0.5)(x)\n",
    "\n",
    "    output_partes = layers.Dense(num_partes, activation='sigmoid', name='partes')(x)\n",
    "    output_dannos = layers.Dense(num_dannos, activation='sigmoid', name='dannos')(x)\n",
    "    output_sugerencias = layers.Dense(num_sugerencias, activation='sigmoid', name='sugerencias')(x)\n",
    "\n",
    "    model = models.Model(\n",
    "        inputs=inputs,\n",
    "        outputs=[output_partes, output_dannos, output_sugerencias]\n",
    "    )\n",
    "\n",
    "    return model\n",
    "\n",
    "# Construir modelo\n",
    "model = build_multi_output_model_fine_tuning(\n",
    "    input_shape=(*IMG_SIZE, 3),\n",
    "    num_partes=len(mlb_partes.classes_),\n",
    "    num_dannos=len(mlb_dannos.classes_),\n",
    "    num_sugerencias=len(mlb_sugerencias.classes_),\n",
    "    base_model_name=BASE_MODEL\n",
    ")\n",
    "\n",
    "# Compilar para entrenamiento inicial\n",
    "model.compile(\n",
    "    optimizer=Adam(learning_rate=LEARNING_RATE_INITIAL),\n",
    "    loss={\n",
    "        'partes': 'binary_crossentropy',\n",
    "        'dannos': 'binary_crossentropy',\n",
    "        'sugerencias': 'binary_crossentropy'\n",
    "    },\n",
    "    metrics={\n",
    "        'partes': 'accuracy',\n",
    "        'dannos': 'accuracy',\n",
    "        'sugerencias': 'accuracy'\n",
    "    }\n",
    ")\n",
    "\n",
    "# Callbacks\n",
    "checkpoint = ModelCheckpoint(\n",
    "    'best_model_fine_tuning.h5',\n",
    "    monitor='val_loss',\n",
    "    save_best_only=True,\n",
    "    mode='min',\n",
    "    verbose=1\n",
    ")\n",
    "\n",
    "early_stopping = EarlyStopping(\n",
    "    monitor='val_loss',\n",
    "    patience=10,\n",
    "    restore_best_weights=True,\n",
    "    verbose=1\n",
    ")\n",
    "\n",
    "# Entrenamiento inicial con base congelada\n",
    "history_initial = model.fit(\n",
    "    train_generator,\n",
    "    validation_data=val_generator,\n",
    "    epochs=EPOCHS_INITIAL,\n",
    "    callbacks=[checkpoint, early_stopping],\n",
    "    class_weight=None,\n",
    "    verbose=1\n",
    ")\n",
    "\n",
    "# Descongelar últimas capas para ajuste fino\n",
    "base_model = model.layers[1]  # Asumiendo que la segunda capa es el modelo base\n",
    "base_model.trainable = True\n",
    "\n",
    "# Congelar todas las capas excepto las últimas 20\n",
    "for layer in base_model.layers[:-20]:\n",
    "    layer.trainable = False\n",
    "\n",
    "# Recompilar con tasa de aprendizaje menor\n",
    "model.compile(\n",
    "    optimizer=Adam(learning_rate=LEARNING_RATE_FINE_TUNE),\n",
    "    loss={\n",
    "        'partes': 'binary_crossentropy',\n",
    "        'dannos': 'binary_crossentropy',\n",
    "        'sugerencias': 'binary_crossentropy'\n",
    "    },\n",
    "    metrics={\n",
    "        'partes': 'accuracy',\n",
    "        'dannos': 'accuracy',\n",
    "        'sugerencias': 'accuracy'\n",
    "    }\n",
    ")\n",
    "\n",
    "# Entrenamiento con ajuste fino\n",
    "history_fine_tune = model.fit(\n",
    "    train_generator,\n",
    "    validation_data=val_generator,\n",
    "    epochs=EPOCHS_FINE_TUNE,\n",
    "    callbacks=[checkpoint, early_stopping],\n",
    "    class_weight=None,\n",
    "    verbose=1\n",
    ")\n",
    "\n",
    "# Guardar modelo final\n",
    "model.save('final_model_fine_tuned.keras')"
   ]
  },
  {
   "cell_type": "code",
   "execution_count": null,
   "id": "4b90c650",
   "metadata": {},
   "outputs": [],
   "source": [
    "# Función para visualizar el historial de entrenamiento\n",
    "def plot_training_history(history1, history2):\n",
    "    import matplotlib.pyplot as plt\n",
    "    plt.figure(figsize=(12, 6))\n",
    "    plt.subplot(1, 2, 1)\n",
    "    plt.plot(history1.history['loss'], label='Train Loss Initial')\n",
    "    plt.plot(history1.history['val_loss'], label='Val Loss Initial')\n",
    "    plt.plot(history2.history['loss'], label='Train Loss Fine Tune')\n",
    "    plt.plot(history2.history['val_loss'], label='Val Loss Fine Tune')\n",
    "    plt.title('Loss Evolution')\n",
    "    plt.xlabel('Epoch')\n",
    "    plt.ylabel('Loss')\n",
    "    plt.legend()\n",
    "\n",
    "    plt.subplot(1, 2, 2)\n",
    "    plt.plot(history1.history['partes_accuracy'], label='Train Parts Accuracy Initial')\n",
    "    plt.plot(history1.history['val_partes_accuracy'], label='Val Parts Accuracy Initial')\n",
    "    plt.plot(history2.history['partes_accuracy'], label='Train Parts Accuracy Fine Tune')\n",
    "    plt.plot(history2.history['val_partes_accuracy'], label='Val Parts Accuracy Fine Tune')\n",
    "    plt.title('Parts Accuracy Evolution')\n",
    "    plt.xlabel('Epoch')\n",
    "    plt.ylabel('Accuracy')\n",
    "    plt.legend()\n",
    "\n",
    "    plt.tight_layout()\n",
    "    plt.show()\n",
    "\n",
    "# Visualizar resultados\n",
    "plot_training_history(history_initial, history_fine_tune)"
   ]
  }
 ],
 "metadata": {
  "kernelspec": {
   "display_name": ".venv-3-11",
   "language": "python",
   "name": "python3"
  },
  "language_info": {
   "codemirror_mode": {
    "name": "ipython",
    "version": 3
   },
   "file_extension": ".py",
   "mimetype": "text/x-python",
   "name": "python",
   "nbconvert_exporter": "python",
   "pygments_lexer": "ipython3",
   "version": "3.11.12"
  }
 },
 "nbformat": 4,
 "nbformat_minor": 5
}
