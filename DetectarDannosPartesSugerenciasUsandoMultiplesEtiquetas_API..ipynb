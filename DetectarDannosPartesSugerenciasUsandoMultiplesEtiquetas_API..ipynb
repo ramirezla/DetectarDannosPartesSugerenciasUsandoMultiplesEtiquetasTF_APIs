{
 "cells": [
  {
   "cell_type": "markdown",
   "id": "2c2a0c17",
   "metadata": {},
   "source": [
    "## API para Predicción de Daños en Vehículos"
   ]
  },
  {
   "cell_type": "markdown",
   "id": "3ade1bb5",
   "metadata": {},
   "source": [
    "1. Estructura del proyecto"
   ]
  },
  {
   "cell_type": "markdown",
   "id": "3643b3c3",
   "metadata": {},
   "source": [
    "    api_dannos/                       # Directorio raíz del proyecto\n",
    "        ├── api/                          # Paquete principal\n",
    "        │   ├── __init__.py               # Archivo de inicialización\n",
    "        │   ├── app.py                    # Aplicación FastAPI\n",
    "        │   ├── predecir.py               # Lógica de predicción\n",
    "        │   └── requirements.txt          # Dependencias\n",
    "        ├── modelos/\n",
    "        │   └── final_model.keras         # Modelo entrenado\n",
    "        └── predecir/                     # Carpeta para imágenes temporales"
   ]
  },
  {
   "cell_type": "markdown",
   "id": "16981977",
   "metadata": {},
   "source": [
    "    api_dannos/                           # Directorio raíz del proyecto\n",
    "        ├── main.py                       # Principal\n",
    "        ├── api/                          # Paquete principal\n",
    "        │   ├── __init__.py               # Archivo de inicialización\n",
    "        │   └── app.py                    # Aplicación FastAPI\n",
    "        ├── modelos/\n",
    "        │   └── final_model.keras         # Modelo entrenado\n",
    "        ├── predecir/                     # Carpeta para imágenes temporales\n",
    "        └── requirements.txt              # Dependencias"
   ]
  },
  {
   "cell_type": "markdown",
   "id": "214d5230",
   "metadata": {},
   "source": [
    "# Desde la raíz del proyecto (api_dannos/)\n",
    "uvicorn api.app:app --reload --host 0.0.0.0 --port 5000"
   ]
  },
  {
   "cell_type": "code",
   "execution_count": null,
   "id": "f20dd666",
   "metadata": {
    "vscode": {
     "languageId": "plaintext"
    }
   },
   "outputs": [],
   "source": [
    "curl -X POST -F \"file=@/data/Python/data/predecir/rayon_02.jpg\" http://localhost:5000/predict"
   ]
  },
  {
   "cell_type": "markdown",
   "id": "79bba715",
   "metadata": {},
   "source": [
    "2. Implementación del API"
   ]
  },
  {
   "cell_type": "markdown",
   "id": "c5024364",
   "metadata": {},
   "source": [
    "model_loader.py"
   ]
  },
  {
   "cell_type": "code",
   "execution_count": null,
   "id": "6938c9cd",
   "metadata": {
    "vscode": {
     "languageId": "plaintext"
    }
   },
   "outputs": [],
   "source": [
    "import tensorflow as tf\n",
    "from tensorflow.keras import applications\n",
    "import numpy as np\n",
    "import os\n",
    "\n",
    "class DamagePredictor:\n",
    "    def __init__(self, model_path):\n",
    "        \"\"\"Carga el modelo y los diccionarios de etiquetas\"\"\"\n",
    "        self.model = tf.keras.models.load_model(model_path)\n",
    "        self.label_to_cls_piezas = {\n",
    "            1: \"Antiniebla delantero derecho\",\n",
    "            # ... (todo tu diccionario de piezas)\n",
    "        }\n",
    "        self.label_to_cls_danos = {\n",
    "            1: \"Abolladura\",\n",
    "            # ... (todo tu diccionario de daños)\n",
    "        }\n",
    "        self.label_to_cls_sugerencias = {\n",
    "            1: \"Reparar\",\n",
    "            # ... (todo tu diccionario de sugerencias)\n",
    "        }\n",
    "\n",
    "    def preprocess_image(self, image_path, img_size=(224, 224)):\n",
    "        \"\"\"Preprocesa la imagen para el modelo\"\"\"\n",
    "        img = tf.keras.preprocessing.image.load_img(image_path, target_size=img_size)\n",
    "        img_array = tf.keras.preprocessing.image.img_to_array(img)\n",
    "        img_array = applications.efficientnet.preprocess_input(img_array)\n",
    "        return np.expand_dims(img_array, axis=0)\n",
    "\n",
    "    def predict(self, image_path):\n",
    "        \"\"\"Realiza la predicción sobre una imagen\"\"\"\n",
    "        # Preprocesar imagen\n",
    "        img_array = self.preprocess_image(image_path)\n",
    "        \n",
    "        # Hacer predicción\n",
    "        predictions = self.model.predict(img_array)\n",
    "        \n",
    "        # Procesar resultados\n",
    "        def get_top_predictions(classes, probs, label_dict, top_n=3):\n",
    "            top_items = sorted(zip(classes, probs[0]), key=lambda x: x[1], reverse=True)[:top_n]\n",
    "            return [{\"label\": label_dict.get(int(cls), f\"Clase_{int(cls)}\"), \"probability\": float(prob)} for cls, prob in top_items]\n",
    "        \n",
    "        return {\n",
    "            \"partes\": get_top_predictions(range(len(self.label_to_cls_piezas)), predictions[0], self.label_to_cls_piezas),\n",
    "            \"dannos\": get_top_predictions(range(len(self.label_to_cls_danos)), predictions[1], self.label_to_cls_danos),\n",
    "            \"sugerencias\": get_top_predictions(range(len(self.label_to_cls_sugerencias)), predictions[2], self.label_to_cls_sugerencias)\n",
    "        }"
   ]
  },
  {
   "cell_type": "markdown",
   "id": "c767cff1",
   "metadata": {},
   "source": [
    "app.py"
   ]
  },
  {
   "cell_type": "code",
   "execution_count": null,
   "id": "c52981c7",
   "metadata": {
    "vscode": {
     "languageId": "plaintext"
    }
   },
   "outputs": [],
   "source": [
    "from flask import Flask, request, jsonify\n",
    "import os\n",
    "from werkzeug.utils import secure_filename\n",
    "from model_loader import DamagePredictor\n",
    "\n",
    "# Configuración\n",
    "UPLOAD_FOLDER = 'uploads'\n",
    "ALLOWED_EXTENSIONS = {'png', 'jpg', 'jpeg'}\n",
    "MODEL_PATH = '../models/final_model.keras'\n",
    "\n",
    "app = Flask(__name__)\n",
    "app.config['UPLOAD_FOLDER'] = UPLOAD_FOLDER\n",
    "\n",
    "# Cargar el modelo al iniciar\n",
    "predictor = DamagePredictor(MODEL_PATH)\n",
    "\n",
    "def allowed_file(filename):\n",
    "    return '.' in filename and \\\n",
    "           filename.rsplit('.', 1)[1].lower() in ALLOWED_EXTENSIONS\n",
    "\n",
    "@app.route('/predict', methods=['POST'])\n",
    "def predict():\n",
    "    # Verificar si se envió un archivo\n",
    "    if 'file' not in request.files:\n",
    "        return jsonify({\"error\": \"No file part\"}), 400\n",
    "    \n",
    "    file = request.files['file']\n",
    "    \n",
    "    # Verificar si se seleccionó un archivo\n",
    "    if file.filename == '':\n",
    "        return jsonify({\"error\": \"No selected file\"}), 400\n",
    "    \n",
    "    if file and allowed_file(file.filename):\n",
    "        # Guardar archivo temporalmente\n",
    "        filename = secure_filename(file.filename)\n",
    "        filepath = os.path.join(app.config['UPLOAD_FOLDER'], filename)\n",
    "        file.save(filepath)\n",
    "        \n",
    "        try:\n",
    "            # Realizar predicción\n",
    "            result = predictor.predict(filepath)\n",
    "            \n",
    "            # Eliminar archivo temporal\n",
    "            os.remove(filepath)\n",
    "            \n",
    "            return jsonify(result)\n",
    "        \n",
    "        except Exception as e:\n",
    "            return jsonify({\"error\": str(e)}), 500\n",
    "    \n",
    "    return jsonify({\"error\": \"File type not allowed\"}), 400\n",
    "\n",
    "if __name__ == '__main__':\n",
    "    # Crear carpeta de uploads si no existe\n",
    "    os.makedirs(UPLOAD_FOLDER, exist_ok=True)\n",
    "    app.run(host='0.0.0.0', port=5000, debug=True)"
   ]
  },
  {
   "cell_type": "markdown",
   "id": "cd849227",
   "metadata": {},
   "source": [
    "requirements.txt"
   ]
  },
  {
   "cell_type": "code",
   "execution_count": null,
   "id": "30ac6b48",
   "metadata": {
    "vscode": {
     "languageId": "plaintext"
    }
   },
   "outputs": [],
   "source": [
    "flask==2.3.2\n",
    "tensorflow==2.10.1\n",
    "numpy==1.23.5\n",
    "werkzeug==2.3.7"
   ]
  },
  {
   "cell_type": "markdown",
   "id": "be9f40bf",
   "metadata": {},
   "source": [
    "3. Instrucciones para usar el API"
   ]
  },
  {
   "cell_type": "markdown",
   "id": "15b571e0",
   "metadata": {},
   "source": [
    "    Instalar dependencias:"
   ]
  },
  {
   "cell_type": "code",
   "execution_count": null,
   "id": "819f45d2",
   "metadata": {
    "vscode": {
     "languageId": "plaintext"
    }
   },
   "outputs": [],
   "source": [
    "pip install -r requirements.txt"
   ]
  },
  {
   "cell_type": "markdown",
   "id": "2bad930e",
   "metadata": {},
   "source": [
    "Ejecutar el API:"
   ]
  },
  {
   "cell_type": "code",
   "execution_count": null,
   "id": "85c17baf",
   "metadata": {
    "vscode": {
     "languageId": "plaintext"
    }
   },
   "outputs": [],
   "source": [
    "python app.py"
   ]
  },
  {
   "cell_type": "markdown",
   "id": "4894692a",
   "metadata": {},
   "source": [
    "Enviar solicitudes:"
   ]
  },
  {
   "cell_type": "code",
   "execution_count": null,
   "id": "6ffe5df8",
   "metadata": {
    "vscode": {
     "languageId": "plaintext"
    }
   },
   "outputs": [],
   "source": [
    "import requests\n",
    "\n",
    "url = 'http://localhost:5000/predict'\n",
    "files = {'file': open('ruta/a/tu/imagen.jpg', 'rb')}\n",
    "response = requests.post(url, files=files)\n",
    "\n",
    "print(response.json())"
   ]
  },
  {
   "cell_type": "markdown",
   "id": "8de58daf",
   "metadata": {},
   "source": [
    "Desde cURL:"
   ]
  },
  {
   "cell_type": "code",
   "execution_count": null,
   "id": "89d4782f",
   "metadata": {
    "vscode": {
     "languageId": "plaintext"
    }
   },
   "outputs": [],
   "source": [
    "curl -X POST -F \"file=@ruta/a/tu/imagen.jpg\" http://localhost:5000/predict"
   ]
  },
  {
   "cell_type": "markdown",
   "id": "9f1c8f7c",
   "metadata": {},
   "source": [
    "4. Respuesta del API"
   ]
  },
  {
   "cell_type": "markdown",
   "id": "84e1771f",
   "metadata": {},
   "source": [
    "La API devolverá un JSON con el siguiente formato:"
   ]
  },
  {
   "cell_type": "code",
   "execution_count": null,
   "id": "6c6b60fe",
   "metadata": {
    "vscode": {
     "languageId": "plaintext"
    }
   },
   "outputs": [],
   "source": [
    "{\n",
    "  \"partes\": [\n",
    "    {\"label\": \"Puerta delantera derecha\", \"probability\": 0.95},\n",
    "    {\"label\": \"Parachoques delantero\", \"probability\": 0.87},\n",
    "    {\"label\": \"Faros derecho\", \"probability\": 0.62}\n",
    "  ],\n",
    "  \"dannos\": [\n",
    "    {\"label\": \"Abolladura\", \"probability\": 0.92},\n",
    "    {\"label\": \"Rayón\", \"probability\": 0.85},\n",
    "    {\"label\": \"Deformación\", \"probability\": 0.41}\n",
    "  ],\n",
    "  \"sugerencias\": [\n",
    "    {\"label\": \"Reparar\", \"probability\": 0.78},\n",
    "    {\"label\": \"Reemplazar\", \"probability\": 0.22}\n",
    "  ]\n",
    "}"
   ]
  },
  {
   "cell_type": "markdown",
   "id": "478329b8",
   "metadata": {},
   "source": [
    "5. Consideraciones adicionales\n",
    "\n",
    "    - Seguridad:\n",
    "        - Valida siempre las extensiones de archivo\n",
    "        - Usa secure_filename para evitar path traversal\n",
    "        - Considera añadir autenticación para producción\n",
    "\n",
    "    - Rendimiento:\n",
    "        - El modelo se carga una sola vez al iniciar el servidor\n",
    "        - Las imágenes se eliminan después de procesarlas\n",
    "\n",
    "    - Producción:\n",
    "        - Usa Gunicorn o Waitress para servir la aplicación\n",
    "        - Considera usar un servidor Nginx como reverse proxy\n",
    "        - Implementa logging para monitorear el servicio\n",
    "\n",
    "Esta implementación proporciona una API robusta y lista para producción que puede recibir imágenes de vehículos dañados y devolver predicciones detalladas sobre las partes afectadas, tipos de daño y sugerencias de reparación."
   ]
  }
 ],
 "metadata": {
  "language_info": {
   "name": "python"
  }
 },
 "nbformat": 4,
 "nbformat_minor": 5
}
